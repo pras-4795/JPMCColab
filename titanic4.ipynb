{
 "cells": [
  {
   "cell_type": "code",
   "execution_count": null,
   "id": "39bdf60f",
   "metadata": {},
   "outputs": [],
   "source": [
    "import pipeline\n",
    "\n",
    "df = ...\n",
    "\n",
    "data = pipeline.data_pipe.fit_transform(df)\n",
    "\n",
    "with open('model.pic', 'rb') as in_file:\n",
    "    model = pickle.load(in_file)\n",
    "\n",
    "result = model.predict(data)"
   ]
  }
 ],
 "metadata": {
  "kernelspec": {
   "display_name": "Python 3 (ipykernel)",
   "language": "python",
   "name": "python3"
  },
  "language_info": {
   "codemirror_mode": {
    "name": "ipython",
    "version": 3
   },
   "file_extension": ".py",
   "mimetype": "text/x-python",
   "name": "python",
   "nbconvert_exporter": "python",
   "pygments_lexer": "ipython3",
   "version": "3.9.13"
  }
 },
 "nbformat": 4,
 "nbformat_minor": 5
}
