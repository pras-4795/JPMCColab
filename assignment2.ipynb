{
  "nbformat": 4,
  "nbformat_minor": 0,
  "metadata": {
    "colab": {
      "provenance": [],
      "authorship_tag": "ABX9TyMg+qfQ8IeU+EuYDxPwA+gB",
      "include_colab_link": true
    },
    "kernelspec": {
      "name": "python3",
      "display_name": "Python 3"
    },
    "language_info": {
      "name": "python"
    }
  },
  "cells": [
    {
      "cell_type": "markdown",
      "metadata": {
        "id": "view-in-github",
        "colab_type": "text"
      },
      "source": [
        "<a href=\"https://colab.research.google.com/github/pras-4795/JPMCColab/blob/main/assignment2.ipynb\" target=\"_parent\"><img src=\"https://colab.research.google.com/assets/colab-badge.svg\" alt=\"Open In Colab\"/></a>"
      ]
    },
    {
      "cell_type": "code",
      "execution_count": 1,
      "metadata": {
        "id": "cJIP32S9LPF_"
      },
      "outputs": [],
      "source": [
        "import yfinance as yf\n",
        "import pandas as pd"
      ]
    },
    {
      "cell_type": "code",
      "source": [
        "def fetch_stock_data(tickers=[\"JPM\"], start=\"2000-01-01\", end=\"2021-12-31\"):\n",
        "    \"\"\"\n",
        "    Fetches stock data for the specified tickers and time period using the yfinance library.\n",
        "\n",
        "    Parameters:\n",
        "    tickers (list): A list of stock tickers (default is [\"JPM\"]).\n",
        "    start (str): The start date for fetching data in the format YYYY-MM-DD (default is \"2000-01-01\").\n",
        "    end (str): The end date for fetching data in the format YYYY-MM-DD (default is \"2021-12-31\").\n",
        "\n",
        "    Returns:\n",
        "    data (pd.DataFrame): A pandas DataFrame containing the fetched stock data.\n",
        "    \"\"\"\n",
        "\n",
        "    # Combine data for all tickers into a single DataFrame\n",
        "    data = pd.DataFrame()\n",
        "    for ticker in tickers:\n",
        "        stock_data = yf.download(ticker, start=start, end=end)\n",
        "        stock_data[\"Ticker\"] = ticker\n",
        "        data = data.append(stock_data, sort=True)\n",
        "\n",
        "    # Reset the index and return the final DataFrame\n",
        "    data.reset_index(inplace=True)\n",
        "    return data\n"
      ],
      "metadata": {
        "id": "t6g3vMd7LzRQ"
      },
      "execution_count": 2,
      "outputs": []
    },
    {
      "cell_type": "code",
      "source": [
        "stock_data = fetch_stock_data(tickers=[\"JPM\", \"AAPL\"], start=\"2010-01-01\", end=\"2023-3-27\")\n",
        "print(stock_data.head())"
      ],
      "metadata": {
        "colab": {
          "base_uri": "https://localhost:8080/"
        },
        "id": "7wd2RxFAMfip",
        "outputId": "5b3cc44f-b950-4235-9ed8-7fe69cab925c"
      },
      "execution_count": 3,
      "outputs": [
        {
          "output_type": "stream",
          "name": "stdout",
          "text": [
            "\r[*********************100%%**********************]  1 of 1 completed\n"
          ]
        },
        {
          "output_type": "stream",
          "name": "stderr",
          "text": [
            "<ipython-input-2-613dc12deb2b>:19: FutureWarning: The frame.append method is deprecated and will be removed from pandas in a future version. Use pandas.concat instead.\n",
            "  data = data.append(stock_data, sort=True)\n"
          ]
        },
        {
          "output_type": "stream",
          "name": "stdout",
          "text": [
            "\r[*********************100%%**********************]  1 of 1 completed\n",
            "        Date  Adj Close      Close       High        Low       Open Ticker  \\\n",
            "0 2010-01-04  30.073080  42.849998  42.990002  41.669998  41.790001    JPM   \n",
            "1 2010-01-05  30.655590  43.680000  43.840000  42.779999  42.790001    JPM   \n",
            "2 2010-01-06  30.824022  43.919998  44.090000  43.310001  43.450001    JPM   \n",
            "3 2010-01-07  31.434622  44.790001  45.119999  43.610001  43.790001    JPM   \n",
            "4 2010-01-08  31.357412  44.680000  44.700001  44.080002  44.369999    JPM   \n",
            "\n",
            "     Volume  \n",
            "0  35460500  \n",
            "1  41208300  \n",
            "2  27729000  \n",
            "3  44864700  \n",
            "4  33110100  \n"
          ]
        },
        {
          "output_type": "stream",
          "name": "stderr",
          "text": [
            "<ipython-input-2-613dc12deb2b>:19: FutureWarning: The frame.append method is deprecated and will be removed from pandas in a future version. Use pandas.concat instead.\n",
            "  data = data.append(stock_data, sort=True)\n"
          ]
        }
      ]
    },
    {
      "cell_type": "code",
      "source": [
        "def add_target_column(data, target_col=\"Target\"):\n",
        "    \"\"\"\n",
        "    Adds a target column to the input DataFrame, indicating whether the previous day's closing price was up or down.\n",
        "\n",
        "    Parameters:\n",
        "    data (pd.DataFrame): The input DataFrame containing stock data.\n",
        "    target_col (str): The name of the target column to be added (default is \"Target\").\n",
        "\n",
        "    Returns:\n",
        "    data (pd.DataFrame): The DataFrame with the new target column added.\n",
        "    \"\"\"\n",
        "\n",
        "    # Calculate the difference between consecutive closing prices\n",
        "    data[\"Price_Diff\"] = data[\"Close\"].diff()\n",
        "\n",
        "    # Assign \"UP\" or \"DOWN\" based on the sign of the price difference\n",
        "    data[target_col] = data[\"Price_Diff\"].apply(lambda x: \"UP\" if x > 0 else \"DOWN\")\n",
        "\n",
        "    # Drop the first row since it has no previous day to compare to, and the \"Price_Diff\" column\n",
        "    data = data.drop(0).drop(columns=[\"Price_Diff\"])\n",
        "\n",
        "    return data"
      ],
      "metadata": {
        "id": "rRCfOR3aNDVn"
      },
      "execution_count": 4,
      "outputs": []
    },
    {
      "cell_type": "code",
      "source": [
        "stock_data_with_target = add_target_column(stock_data)\n",
        "print(stock_data_with_target.head())"
      ],
      "metadata": {
        "colab": {
          "base_uri": "https://localhost:8080/"
        },
        "id": "UpRcpU8mS7Qp",
        "outputId": "c869f26b-a970-45f5-e10d-7ed6d1a2d3e6"
      },
      "execution_count": 5,
      "outputs": [
        {
          "output_type": "stream",
          "name": "stdout",
          "text": [
            "        Date  Adj Close      Close       High        Low       Open Ticker  \\\n",
            "1 2010-01-05  30.655590  43.680000  43.840000  42.779999  42.790001    JPM   \n",
            "2 2010-01-06  30.824022  43.919998  44.090000  43.310001  43.450001    JPM   \n",
            "3 2010-01-07  31.434622  44.790001  45.119999  43.610001  43.790001    JPM   \n",
            "4 2010-01-08  31.357412  44.680000  44.700001  44.080002  44.369999    JPM   \n",
            "5 2010-01-11  31.252146  44.529999  45.189999  44.310001  45.119999    JPM   \n",
            "\n",
            "     Volume Target  \n",
            "1  41208300     UP  \n",
            "2  27729000     UP  \n",
            "3  44864700     UP  \n",
            "4  33110100   DOWN  \n",
            "5  31878700   DOWN  \n"
          ]
        }
      ]
    },
    {
      "cell_type": "code",
      "source": [
        "from sklearn.preprocessing import LabelEncoder, StandardScaler"
      ],
      "metadata": {
        "id": "R62Ch9d3TV70"
      },
      "execution_count": 6,
      "outputs": []
    },
    {
      "cell_type": "code",
      "source": [
        "def encode_and_preprocess(data, categorical_cols=None, numerical_cols=None, target_col=\"Target\"):\n",
        "    \"\"\"\n",
        "    Encodes categorical variables and standardizes/normalizes numerical variables in the input DataFrame.\n",
        "\n",
        "    Parameters:\n",
        "    data (pd.DataFrame): The input DataFrame containing stock data.\n",
        "    categorical_cols (list): A list of categorical column names to be encoded (default is None).\n",
        "    numerical_cols (list): A list of numerical column names to be standardized/normalized (default is None).\n",
        "    target_col (str): The name of the target column (default is \"Target\").\n",
        "\n",
        "    Returns:\n",
        "    data (pd.DataFrame): The preprocessed DataFrame.\n",
        "    \"\"\"\n",
        "\n",
        "    # Make a copy of the input DataFrame to avoid modifying the original data\n",
        "    data = data.copy()\n",
        "\n",
        "    # Encode categorical columns\n",
        "    if categorical_cols:\n",
        "        le = LabelEncoder()\n",
        "        for col in categorical_cols:\n",
        "            data[col] = le.fit_transform(data[col])\n",
        "\n",
        "    # Standardize/normalize numerical columns\n",
        "    if numerical_cols:\n",
        "        scaler = StandardScaler()\n",
        "        data[numerical_cols] = scaler.fit_transform(data[numerical_cols])\n",
        "\n",
        "    # Ensure the target column is the last column in the DataFrame\n",
        "    data = data[[col for col in data.columns if col != target_col] + [target_col]]\n",
        "\n",
        "    return data"
      ],
      "metadata": {
        "id": "O8b217FzTeFi"
      },
      "execution_count": 7,
      "outputs": []
    },
    {
      "cell_type": "code",
      "source": [
        "preprocessed_data = encode_and_preprocess(stock_data_with_target, categorical_cols=[\"Ticker\"], numerical_cols=[\"Open\", \"High\", \"Low\", \"Close\", \"Adj Close\", \"Volume\"])\n",
        "print(preprocessed_data.head())"
      ],
      "metadata": {
        "colab": {
          "base_uri": "https://localhost:8080/"
        },
        "id": "sIqbXkmJT1jz",
        "outputId": "e6947aa4-9d5b-4fb6-8080-ac0ba815bbe2"
      },
      "execution_count": 8,
      "outputs": [
        {
          "output_type": "stream",
          "name": "stdout",
          "text": [
            "        Date  Adj Close     Close      High       Low      Open  Ticker  \\\n",
            "1 2010-01-05  -0.672307 -0.526017 -0.531653 -0.536036 -0.545151       1   \n",
            "2 2010-01-06  -0.668595 -0.520811 -0.526288 -0.524411 -0.530830       1   \n",
            "3 2010-01-07  -0.655138 -0.501939 -0.504183 -0.517830 -0.523452       1   \n",
            "4 2010-01-08  -0.656840 -0.504325 -0.513196 -0.507521 -0.510866       1   \n",
            "5 2010-01-11  -0.659160 -0.507579 -0.502680 -0.502476 -0.494592       1   \n",
            "\n",
            "     Volume Target  \n",
            "1 -0.489056     UP  \n",
            "2 -0.557981     UP  \n",
            "3 -0.470359     UP  \n",
            "4 -0.530465   DOWN  \n",
            "5 -0.536762   DOWN  \n"
          ]
        }
      ]
    },
    {
      "cell_type": "code",
      "source": [
        "import time\n",
        "import numpy as np\n",
        "from sklearn.model_selection import train_test_split, cross_val_score\n",
        "from sklearn.metrics import roc_auc_score, accuracy_score, precision_score, recall_score, f1_score\n",
        "from sklearn.linear_model import LogisticRegression\n",
        "from sklearn.tree import DecisionTreeClassifier\n",
        "from sklearn.ensemble import RandomForestClassifier\n",
        "from sklearn.svm import SVC\n",
        "from sklearn.neighbors import KNeighborsClassifier\n",
        "from xgboost import XGBClassifier\n",
        "from lightgbm import LGBMClassifier\n",
        "from sklearn.naive_bayes import GaussianNB"
      ],
      "metadata": {
        "id": "nVCGIVSSUHSb"
      },
      "execution_count": 9,
      "outputs": []
    },
    {
      "cell_type": "code",
      "source": [
        "def evaluate_classifiers(data, target_col=\"Target\", test_size=0.2, random_state=42, exclude_columns=None):\n",
        "    \"\"\"\n",
        "    Trains and evaluates various classifiers on the input DataFrame, displaying performance metrics and training time.\n",
        "\n",
        "    Parameters:\n",
        "    data (pd.DataFrame): The preprocessed DataFrame containing stock data.\n",
        "    target_col (str): The name of the target column (default is \"Target\").\n",
        "    test_size (float): The proportion of the dataset to include in the test split (default is 0.2).\n",
        "    random_state (int): A random seed for reproducibility (default is 42).\n",
        "    exclude_columns (list): A list of column names to be excluded from the features (default is None).\n",
        "\n",
        "    Returns:\n",
        "    performance_table (pd.DataFrame): A DataFrame displaying each algorithm's name, training time, and performance metrics.\n",
        "    \"\"\"\n",
        "\n",
        "    # Exclude the specified columns from the features, if provided\n",
        "    if exclude_columns:\n",
        "        feature_columns = [col for col in data.columns if col not in exclude_columns + [target_col]]\n",
        "    else:\n",
        "        feature_columns = [col for col in data.columns if col != target_col]\n",
        "\n",
        "    # Split the data into training and testing sets\n",
        "    X = data[feature_columns]\n",
        "    y = data[target_col]\n",
        "    X_train, X_test, y_train, y_test = train_test_split(X, y, test_size=test_size, random_state=random_state)\n",
        "\n",
        "    # Encode the target column\n",
        "    le = LabelEncoder()\n",
        "    y_train = le.fit_transform(y_train)\n",
        "    y_test = le.transform(y_test)\n",
        "\n",
        "    # Define the classifiers to be evaluated\n",
        "    classifiers = [\n",
        "        (\"Logistic Regression\", LogisticRegression(random_state=random_state)),\n",
        "        (\"Decision Tree\", DecisionTreeClassifier(random_state=random_state)),\n",
        "        (\"Random Forest\", RandomForestClassifier(random_state=random_state)),\n",
        "        (\"Support Vector Machine\", SVC(random_state=random_state, probability=True)),\n",
        "        (\"K-Nearest Neighbors\", KNeighborsClassifier()),\n",
        "        (\"XGBoost\", XGBClassifier(random_state=random_state)),\n",
        "        (\"LightGBM\", LGBMClassifier(random_state=random_state)),\n",
        "    ]\n",
        "\n",
        "    # Evaluate each classifier and store the results in a list\n",
        "    results = []\n",
        "    for name, classifier in classifiers:\n",
        "        start_time = time.time()\n",
        "        classifier.fit(X_train, y_train)\n",
        "        end_time = time.time()\n",
        "\n",
        "        # Compute the performance metrics\n",
        "        y_pred = classifier.predict(X_test)\n",
        "        y_proba = classifier.predict_proba(X_test)[:, 1]\n",
        "        accuracy = accuracy_score(y_test, y_pred)\n",
        "        precision = precision_score(y_test, y_pred)\n",
        "        recall = recall_score(y_test, y_pred)\n",
        "        f1 = f1_score(y_test, y_pred)\n",
        "        roc_auc = roc_auc_score(y_test, y_proba)\n",
        "\n",
        "        results.append([name, end_time - start_time, accuracy, precision, recall, f1, roc_auc])\n",
        "    # Create a DataFrame from the results and sort it by the best AUC/ROC score\n",
        "    performance_table = pd.DataFrame(results, columns=[\"Classifier\", \"Training Time\", \"Accuracy\", \"Precision\", \"Recall\", \"F1 Score\", \"ROC AUC\"])\n",
        "    performance_table = performance_table.sort_values(by=\"ROC AUC\", ascending=False).reset_index(drop=True)\n",
        "\n",
        "    return performance_table"
      ],
      "metadata": {
        "id": "CGijEyacUko0"
      },
      "execution_count": 10,
      "outputs": []
    },
    {
      "cell_type": "code",
      "source": [
        "performance_table = evaluate_classifiers(preprocessed_data, exclude_columns=[\"Date\"])\n",
        "performance_table"
      ],
      "metadata": {
        "colab": {
          "base_uri": "https://localhost:8080/",
          "height": 412
        },
        "id": "1LJ_anBFXKuc",
        "outputId": "550a494e-ff12-4544-b405-ed9931241e81"
      },
      "execution_count": 11,
      "outputs": [
        {
          "output_type": "stream",
          "name": "stdout",
          "text": [
            "[LightGBM] [Warning] Found whitespace in feature_names, replace with underlines\n",
            "[LightGBM] [Info] Number of positive: 2774, number of negative: 2551\n",
            "[LightGBM] [Warning] Auto-choosing col-wise multi-threading, the overhead of testing was 0.000447 seconds.\n",
            "You can set `force_col_wise=true` to remove the overhead.\n",
            "[LightGBM] [Info] Total Bins 1532\n",
            "[LightGBM] [Info] Number of data points in the train set: 5325, number of used features: 7\n",
            "[LightGBM] [Info] [binary:BoostFromScore]: pavg=0.520939 -> initscore=0.083805\n",
            "[LightGBM] [Info] Start training from score 0.083805\n"
          ]
        },
        {
          "output_type": "execute_result",
          "data": {
            "text/plain": [
              "               Classifier  Training Time  Accuracy  Precision    Recall  \\\n",
              "0     Logistic Regression       0.149615  0.700450   0.646274  0.877644   \n",
              "1                 XGBoost       0.519598  0.695946   0.684362  0.720544   \n",
              "2                LightGBM       0.137456  0.684685   0.665301  0.735650   \n",
              "3           Random Forest       3.405338  0.678679   0.676205  0.678248   \n",
              "4           Decision Tree       0.733570  0.674174   0.668639  0.682779   \n",
              "5  Support Vector Machine      11.944942  0.521021   0.509479  0.974320   \n",
              "6     K-Nearest Neighbors       0.005027  0.581832   0.575758  0.602719   \n",
              "\n",
              "   F1 Score   ROC AUC  \n",
              "0  0.744395  0.813467  \n",
              "1  0.701987  0.749759  \n",
              "2  0.698709  0.739444  \n",
              "3  0.677225  0.727825  \n",
              "4  0.675635  0.674226  \n",
              "5  0.669087  0.663229  \n",
              "6  0.588930  0.619178  "
            ],
            "text/html": [
              "\n",
              "  <div id=\"df-ff9d9168-3cfb-4ba4-96bf-b9319dcbc509\" class=\"colab-df-container\">\n",
              "    <div>\n",
              "<style scoped>\n",
              "    .dataframe tbody tr th:only-of-type {\n",
              "        vertical-align: middle;\n",
              "    }\n",
              "\n",
              "    .dataframe tbody tr th {\n",
              "        vertical-align: top;\n",
              "    }\n",
              "\n",
              "    .dataframe thead th {\n",
              "        text-align: right;\n",
              "    }\n",
              "</style>\n",
              "<table border=\"1\" class=\"dataframe\">\n",
              "  <thead>\n",
              "    <tr style=\"text-align: right;\">\n",
              "      <th></th>\n",
              "      <th>Classifier</th>\n",
              "      <th>Training Time</th>\n",
              "      <th>Accuracy</th>\n",
              "      <th>Precision</th>\n",
              "      <th>Recall</th>\n",
              "      <th>F1 Score</th>\n",
              "      <th>ROC AUC</th>\n",
              "    </tr>\n",
              "  </thead>\n",
              "  <tbody>\n",
              "    <tr>\n",
              "      <th>0</th>\n",
              "      <td>Logistic Regression</td>\n",
              "      <td>0.149615</td>\n",
              "      <td>0.700450</td>\n",
              "      <td>0.646274</td>\n",
              "      <td>0.877644</td>\n",
              "      <td>0.744395</td>\n",
              "      <td>0.813467</td>\n",
              "    </tr>\n",
              "    <tr>\n",
              "      <th>1</th>\n",
              "      <td>XGBoost</td>\n",
              "      <td>0.519598</td>\n",
              "      <td>0.695946</td>\n",
              "      <td>0.684362</td>\n",
              "      <td>0.720544</td>\n",
              "      <td>0.701987</td>\n",
              "      <td>0.749759</td>\n",
              "    </tr>\n",
              "    <tr>\n",
              "      <th>2</th>\n",
              "      <td>LightGBM</td>\n",
              "      <td>0.137456</td>\n",
              "      <td>0.684685</td>\n",
              "      <td>0.665301</td>\n",
              "      <td>0.735650</td>\n",
              "      <td>0.698709</td>\n",
              "      <td>0.739444</td>\n",
              "    </tr>\n",
              "    <tr>\n",
              "      <th>3</th>\n",
              "      <td>Random Forest</td>\n",
              "      <td>3.405338</td>\n",
              "      <td>0.678679</td>\n",
              "      <td>0.676205</td>\n",
              "      <td>0.678248</td>\n",
              "      <td>0.677225</td>\n",
              "      <td>0.727825</td>\n",
              "    </tr>\n",
              "    <tr>\n",
              "      <th>4</th>\n",
              "      <td>Decision Tree</td>\n",
              "      <td>0.733570</td>\n",
              "      <td>0.674174</td>\n",
              "      <td>0.668639</td>\n",
              "      <td>0.682779</td>\n",
              "      <td>0.675635</td>\n",
              "      <td>0.674226</td>\n",
              "    </tr>\n",
              "    <tr>\n",
              "      <th>5</th>\n",
              "      <td>Support Vector Machine</td>\n",
              "      <td>11.944942</td>\n",
              "      <td>0.521021</td>\n",
              "      <td>0.509479</td>\n",
              "      <td>0.974320</td>\n",
              "      <td>0.669087</td>\n",
              "      <td>0.663229</td>\n",
              "    </tr>\n",
              "    <tr>\n",
              "      <th>6</th>\n",
              "      <td>K-Nearest Neighbors</td>\n",
              "      <td>0.005027</td>\n",
              "      <td>0.581832</td>\n",
              "      <td>0.575758</td>\n",
              "      <td>0.602719</td>\n",
              "      <td>0.588930</td>\n",
              "      <td>0.619178</td>\n",
              "    </tr>\n",
              "  </tbody>\n",
              "</table>\n",
              "</div>\n",
              "    <div class=\"colab-df-buttons\">\n",
              "\n",
              "  <div class=\"colab-df-container\">\n",
              "    <button class=\"colab-df-convert\" onclick=\"convertToInteractive('df-ff9d9168-3cfb-4ba4-96bf-b9319dcbc509')\"\n",
              "            title=\"Convert this dataframe to an interactive table.\"\n",
              "            style=\"display:none;\">\n",
              "\n",
              "  <svg xmlns=\"http://www.w3.org/2000/svg\" height=\"24px\" viewBox=\"0 -960 960 960\">\n",
              "    <path d=\"M120-120v-720h720v720H120Zm60-500h600v-160H180v160Zm220 220h160v-160H400v160Zm0 220h160v-160H400v160ZM180-400h160v-160H180v160Zm440 0h160v-160H620v160ZM180-180h160v-160H180v160Zm440 0h160v-160H620v160Z\"/>\n",
              "  </svg>\n",
              "    </button>\n",
              "\n",
              "  <style>\n",
              "    .colab-df-container {\n",
              "      display:flex;\n",
              "      gap: 12px;\n",
              "    }\n",
              "\n",
              "    .colab-df-convert {\n",
              "      background-color: #E8F0FE;\n",
              "      border: none;\n",
              "      border-radius: 50%;\n",
              "      cursor: pointer;\n",
              "      display: none;\n",
              "      fill: #1967D2;\n",
              "      height: 32px;\n",
              "      padding: 0 0 0 0;\n",
              "      width: 32px;\n",
              "    }\n",
              "\n",
              "    .colab-df-convert:hover {\n",
              "      background-color: #E2EBFA;\n",
              "      box-shadow: 0px 1px 2px rgba(60, 64, 67, 0.3), 0px 1px 3px 1px rgba(60, 64, 67, 0.15);\n",
              "      fill: #174EA6;\n",
              "    }\n",
              "\n",
              "    .colab-df-buttons div {\n",
              "      margin-bottom: 4px;\n",
              "    }\n",
              "\n",
              "    [theme=dark] .colab-df-convert {\n",
              "      background-color: #3B4455;\n",
              "      fill: #D2E3FC;\n",
              "    }\n",
              "\n",
              "    [theme=dark] .colab-df-convert:hover {\n",
              "      background-color: #434B5C;\n",
              "      box-shadow: 0px 1px 3px 1px rgba(0, 0, 0, 0.15);\n",
              "      filter: drop-shadow(0px 1px 2px rgba(0, 0, 0, 0.3));\n",
              "      fill: #FFFFFF;\n",
              "    }\n",
              "  </style>\n",
              "\n",
              "    <script>\n",
              "      const buttonEl =\n",
              "        document.querySelector('#df-ff9d9168-3cfb-4ba4-96bf-b9319dcbc509 button.colab-df-convert');\n",
              "      buttonEl.style.display =\n",
              "        google.colab.kernel.accessAllowed ? 'block' : 'none';\n",
              "\n",
              "      async function convertToInteractive(key) {\n",
              "        const element = document.querySelector('#df-ff9d9168-3cfb-4ba4-96bf-b9319dcbc509');\n",
              "        const dataTable =\n",
              "          await google.colab.kernel.invokeFunction('convertToInteractive',\n",
              "                                                    [key], {});\n",
              "        if (!dataTable) return;\n",
              "\n",
              "        const docLinkHtml = 'Like what you see? Visit the ' +\n",
              "          '<a target=\"_blank\" href=https://colab.research.google.com/notebooks/data_table.ipynb>data table notebook</a>'\n",
              "          + ' to learn more about interactive tables.';\n",
              "        element.innerHTML = '';\n",
              "        dataTable['output_type'] = 'display_data';\n",
              "        await google.colab.output.renderOutput(dataTable, element);\n",
              "        const docLink = document.createElement('div');\n",
              "        docLink.innerHTML = docLinkHtml;\n",
              "        element.appendChild(docLink);\n",
              "      }\n",
              "    </script>\n",
              "  </div>\n",
              "\n",
              "\n",
              "<div id=\"df-113eed8f-c060-489f-9155-4d75f64d5552\">\n",
              "  <button class=\"colab-df-quickchart\" onclick=\"quickchart('df-113eed8f-c060-489f-9155-4d75f64d5552')\"\n",
              "            title=\"Suggest charts.\"\n",
              "            style=\"display:none;\">\n",
              "\n",
              "<svg xmlns=\"http://www.w3.org/2000/svg\" height=\"24px\"viewBox=\"0 0 24 24\"\n",
              "     width=\"24px\">\n",
              "    <g>\n",
              "        <path d=\"M19 3H5c-1.1 0-2 .9-2 2v14c0 1.1.9 2 2 2h14c1.1 0 2-.9 2-2V5c0-1.1-.9-2-2-2zM9 17H7v-7h2v7zm4 0h-2V7h2v10zm4 0h-2v-4h2v4z\"/>\n",
              "    </g>\n",
              "</svg>\n",
              "  </button>\n",
              "\n",
              "<style>\n",
              "  .colab-df-quickchart {\n",
              "    background-color: #E8F0FE;\n",
              "    border: none;\n",
              "    border-radius: 50%;\n",
              "    cursor: pointer;\n",
              "    display: none;\n",
              "    fill: #1967D2;\n",
              "    height: 32px;\n",
              "    padding: 0 0 0 0;\n",
              "    width: 32px;\n",
              "  }\n",
              "\n",
              "  .colab-df-quickchart:hover {\n",
              "    background-color: #E2EBFA;\n",
              "    box-shadow: 0px 1px 2px rgba(60, 64, 67, 0.3), 0px 1px 3px 1px rgba(60, 64, 67, 0.15);\n",
              "    fill: #174EA6;\n",
              "  }\n",
              "\n",
              "  [theme=dark] .colab-df-quickchart {\n",
              "    background-color: #3B4455;\n",
              "    fill: #D2E3FC;\n",
              "  }\n",
              "\n",
              "  [theme=dark] .colab-df-quickchart:hover {\n",
              "    background-color: #434B5C;\n",
              "    box-shadow: 0px 1px 3px 1px rgba(0, 0, 0, 0.15);\n",
              "    filter: drop-shadow(0px 1px 2px rgba(0, 0, 0, 0.3));\n",
              "    fill: #FFFFFF;\n",
              "  }\n",
              "</style>\n",
              "\n",
              "  <script>\n",
              "    async function quickchart(key) {\n",
              "      const charts = await google.colab.kernel.invokeFunction(\n",
              "          'suggestCharts', [key], {});\n",
              "    }\n",
              "    (() => {\n",
              "      let quickchartButtonEl =\n",
              "        document.querySelector('#df-113eed8f-c060-489f-9155-4d75f64d5552 button');\n",
              "      quickchartButtonEl.style.display =\n",
              "        google.colab.kernel.accessAllowed ? 'block' : 'none';\n",
              "    })();\n",
              "  </script>\n",
              "</div>\n",
              "    </div>\n",
              "  </div>\n"
            ]
          },
          "metadata": {},
          "execution_count": 11
        }
      ]
    },
    {
      "cell_type": "code",
      "source": [
        "from sklearn.model_selection import cross_val_score, KFold\n",
        "\n",
        "def kfold_cross_val_scores(classifiers, X, y, scoring='roc_auc', n_splits=5, random_state=42):\n",
        "    \"\"\"\n",
        "    Performs k-fold cross-validation for each classifier and returns their scores.\n",
        "\n",
        "    Parameters:\n",
        "    classifiers (list): List of classifiers as tuples (name, classifier_instance).\n",
        "    X (pd.DataFrame): The feature matrix.\n",
        "    y (pd.Series): The target variable.\n",
        "    scoring (str): Scikit-learn scoring method (default is 'roc_auc').\n",
        "    n_splits (int): The number of folds in k-fold cross-validation (default is 5).\n",
        "    random_state (int): Random state for reproducibility (default is 42).\n",
        "\n",
        "    Returns:\n",
        "    pd.DataFrame: A DataFrame containing the classifier names and cross-validation scores.\n",
        "    \"\"\"\n",
        "    kfold = KFold(n_splits=n_splits, random_state=random_state, shuffle=True)\n",
        "    scores = []\n",
        "\n",
        "    for name, classifier in classifiers:\n",
        "        cv_scores = cross_val_score(classifier, X, y, scoring=scoring, cv=kfold)\n",
        "        for score in cv_scores:\n",
        "            scores.append([name, score])\n",
        "\n",
        "    scores_df = pd.DataFrame(scores, columns=[\"Classifier\", \"Score\"])\n",
        "    return scores_df"
      ],
      "metadata": {
        "id": "28ov5v9UXwpz"
      },
      "execution_count": 12,
      "outputs": []
    },
    {
      "cell_type": "code",
      "source": [
        "import matplotlib.pyplot as plt\n",
        "import seaborn as sns\n",
        "random_state = 21\n",
        "classifiers = [\n",
        "    (\"Logistic Regression\", LogisticRegression(random_state=random_state)),\n",
        "    (\"Support Vector Machines\", SVC(random_state=random_state, probability=True)),\n",
        "    (\"Random Forest\", RandomForestClassifier(random_state=random_state)),\n",
        "    (\"Naive Bayes\", GaussianNB()),\n",
        "    (\"K-Nearest Neighbors\", KNeighborsClassifier()),\n",
        "    (\"XGBoost\", XGBClassifier(random_state=random_state, use_label_encoder=False, eval_metric=\"logloss\")),\n",
        "    (\"LightGBM\", LGBMClassifier(random_state=random_state))\n",
        "]\n",
        "def visualize_performance(classifiers, X, y, scoring='roc_auc', n_splits=5, random_state=42):\n",
        "    \"\"\"\n",
        "    Performs k-fold cross-validation and generates boxplots for the chosen scoring metric.\n",
        "\n",
        "    Parameters:\n",
        "    classifiers (list): List of classifiers as tuples (name, classifier_instance).\n",
        "    X (pd.DataFrame): The feature matrix.\n",
        "    y (pd.Series): The target variable.\n",
        "    scoring (str): Scikit-learn scoring method (default is 'roc_auc').\n",
        "    n_splits (int): The number of folds in k-fold cross-validation (default is 5).\n",
        "    random_state (int): Random state for reproducibility (default is 42).\n",
        "    \"\"\"\n",
        "\n",
        "    # Obtain the k-fold cross-validation scores\n",
        "    scores_df = kfold_cross_val_scores(classifiers, X, y, scoring=scoring, n_splits=n_splits, random_state=random_state)\n",
        "\n",
        "    # Create a boxplot for the chosen scoring metric\n",
        "    plt.figure(figsize=(14, 6))\n",
        "    sns.boxplot(x=\"Classifier\", y=\"Score\", data=scores_df, palette=\"Set2\")\n",
        "    plt.title(f\"Classifier {scoring.upper()} Comparison (k-Fold Cross-Validation)\")\n",
        "    plt.xticks(rotation=45)\n",
        "    plt.show()"
      ],
      "metadata": {
        "colab": {
          "base_uri": "https://localhost:8080/"
        },
        "id": "bxLfO-jlYLu5",
        "outputId": "aef78e16-16bb-44ae-badf-1c69a28b0f88"
      },
      "execution_count": 13,
      "outputs": [
        {
          "output_type": "stream",
          "name": "stderr",
          "text": [
            "/usr/local/lib/python3.10/dist-packages/xgboost/sklearn.py:1395: UserWarning: `use_label_encoder` is deprecated in 1.7.0.\n",
            "  warnings.warn(\"`use_label_encoder` is deprecated in 1.7.0.\")\n"
          ]
        }
      ]
    },
    {
      "cell_type": "code",
      "source": [
        "from sklearn.preprocessing import LabelEncoder\n",
        "\n",
        "# Prepare the data\n",
        "X = preprocessed_data.drop([\"Date\", \"Target\"], axis=1)\n",
        "y = preprocessed_data[\"Target\"]\n",
        "\n",
        "# Encode the target variable\n",
        "encoder = LabelEncoder()\n",
        "y_encoded = encoder.fit_transform(y)\n",
        "\n",
        "# Visualize the performance\n",
        "visualize_performance(classifiers, X, y_encoded, scoring='roc_auc')"
      ],
      "metadata": {
        "colab": {
          "base_uri": "https://localhost:8080/",
          "height": 1000
        },
        "id": "5QJIhl7bYwW-",
        "outputId": "620f3d87-62dc-4796-dc2b-bcd6850c00b5"
      },
      "execution_count": 14,
      "outputs": [
        {
          "output_type": "stream",
          "name": "stderr",
          "text": [
            "/usr/local/lib/python3.10/dist-packages/xgboost/sklearn.py:1395: UserWarning: `use_label_encoder` is deprecated in 1.7.0.\n",
            "  warnings.warn(\"`use_label_encoder` is deprecated in 1.7.0.\")\n",
            "/usr/local/lib/python3.10/dist-packages/xgboost/sklearn.py:1395: UserWarning: `use_label_encoder` is deprecated in 1.7.0.\n",
            "  warnings.warn(\"`use_label_encoder` is deprecated in 1.7.0.\")\n",
            "/usr/local/lib/python3.10/dist-packages/xgboost/sklearn.py:1395: UserWarning: `use_label_encoder` is deprecated in 1.7.0.\n",
            "  warnings.warn(\"`use_label_encoder` is deprecated in 1.7.0.\")\n",
            "/usr/local/lib/python3.10/dist-packages/xgboost/sklearn.py:1395: UserWarning: `use_label_encoder` is deprecated in 1.7.0.\n",
            "  warnings.warn(\"`use_label_encoder` is deprecated in 1.7.0.\")\n",
            "/usr/local/lib/python3.10/dist-packages/xgboost/sklearn.py:1395: UserWarning: `use_label_encoder` is deprecated in 1.7.0.\n",
            "  warnings.warn(\"`use_label_encoder` is deprecated in 1.7.0.\")\n"
          ]
        },
        {
          "output_type": "stream",
          "name": "stdout",
          "text": [
            "[LightGBM] [Warning] Found whitespace in feature_names, replace with underlines\n",
            "[LightGBM] [Info] Number of positive: 2774, number of negative: 2551\n",
            "[LightGBM] [Warning] Auto-choosing row-wise multi-threading, the overhead of testing was 0.000113 seconds.\n",
            "You can set `force_row_wise=true` to remove the overhead.\n",
            "And if memory is not enough, you can set `force_col_wise=true`.\n",
            "[LightGBM] [Info] Total Bins 1532\n",
            "[LightGBM] [Info] Number of data points in the train set: 5325, number of used features: 7\n",
            "[LightGBM] [Info] [binary:BoostFromScore]: pavg=0.520939 -> initscore=0.083805\n",
            "[LightGBM] [Info] Start training from score 0.083805\n",
            "[LightGBM] [Warning] Found whitespace in feature_names, replace with underlines\n",
            "[LightGBM] [Info] Number of positive: 2750, number of negative: 2575\n",
            "[LightGBM] [Warning] Auto-choosing row-wise multi-threading, the overhead of testing was 0.000105 seconds.\n",
            "You can set `force_row_wise=true` to remove the overhead.\n",
            "And if memory is not enough, you can set `force_col_wise=true`.\n",
            "[LightGBM] [Info] Total Bins 1532\n",
            "[LightGBM] [Info] Number of data points in the train set: 5325, number of used features: 7\n",
            "[LightGBM] [Info] [binary:BoostFromScore]: pavg=0.516432 -> initscore=0.065751\n",
            "[LightGBM] [Info] Start training from score 0.065751\n",
            "[LightGBM] [Warning] Found whitespace in feature_names, replace with underlines\n",
            "[LightGBM] [Info] Number of positive: 2733, number of negative: 2593\n",
            "[LightGBM] [Warning] Auto-choosing row-wise multi-threading, the overhead of testing was 0.000103 seconds.\n",
            "You can set `force_row_wise=true` to remove the overhead.\n",
            "And if memory is not enough, you can set `force_col_wise=true`.\n",
            "[LightGBM] [Info] Total Bins 1532\n",
            "[LightGBM] [Info] Number of data points in the train set: 5326, number of used features: 7\n",
            "[LightGBM] [Info] [binary:BoostFromScore]: pavg=0.513143 -> initscore=0.052584\n",
            "[LightGBM] [Info] Start training from score 0.052584\n",
            "[LightGBM] [Warning] Found whitespace in feature_names, replace with underlines\n",
            "[LightGBM] [Info] Number of positive: 2750, number of negative: 2576\n",
            "[LightGBM] [Warning] Auto-choosing row-wise multi-threading, the overhead of testing was 0.000250 seconds.\n",
            "You can set `force_row_wise=true` to remove the overhead.\n",
            "And if memory is not enough, you can set `force_col_wise=true`.\n",
            "[LightGBM] [Info] Total Bins 1532\n",
            "[LightGBM] [Info] Number of data points in the train set: 5326, number of used features: 7\n",
            "[LightGBM] [Info] [binary:BoostFromScore]: pavg=0.516335 -> initscore=0.065363\n",
            "[LightGBM] [Info] Start training from score 0.065363\n",
            "[LightGBM] [Warning] Found whitespace in feature_names, replace with underlines\n",
            "[LightGBM] [Info] Number of positive: 2737, number of negative: 2589\n",
            "[LightGBM] [Warning] Auto-choosing row-wise multi-threading, the overhead of testing was 0.000118 seconds.\n",
            "You can set `force_row_wise=true` to remove the overhead.\n",
            "And if memory is not enough, you can set `force_col_wise=true`.\n",
            "[LightGBM] [Info] Total Bins 1532\n",
            "[LightGBM] [Info] Number of data points in the train set: 5326, number of used features: 7\n",
            "[LightGBM] [Info] [binary:BoostFromScore]: pavg=0.513894 -> initscore=0.055591\n",
            "[LightGBM] [Info] Start training from score 0.055591\n"
          ]
        },
        {
          "output_type": "display_data",
          "data": {
            "text/plain": [
              "<Figure size 1400x600 with 1 Axes>"
            ],
            "image/png": "[encoded data removed]"
          },
          "metadata": {}
        }
      ]
    },
    {
      "cell_type": "code",
      "source": [
        "def encode_data(data):\n",
        "    # This function should implement your encoding logic\n",
        "    # For example, you can use LabelEncoder, OneHotEncoder, or any other suitable encoding method\n",
        "    # Here's a simple example using LabelEncoder:\n",
        "\n",
        "    from sklearn.preprocessing import LabelEncoder\n",
        "\n",
        "    le = LabelEncoder()\n",
        "    encoded_data = data.copy()\n",
        "\n",
        "    for col in encoded_data.columns:\n",
        "        if encoded_data[col].dtype == 'object':\n",
        "            encoded_data[col] = le.fit_transform(encoded_data[col])\n",
        "\n",
        "    return encoded_data"
      ],
      "metadata": {
        "id": "926ttB3LDlaA"
      },
      "execution_count": 15,
      "outputs": []
    },
    {
      "cell_type": "code",
      "source": [
        "from sklearn.preprocessing import StandardScaler\n",
        "\n",
        "def normalize_data(data):\n",
        "    # This function should implement your normalization logic\n",
        "    # For example, you can use StandardScaler, MinMaxScaler, or any other suitable method\n",
        "    # Here's an example using StandardScaler:\n",
        "\n",
        "    scaler = StandardScaler()\n",
        "    normalized_data = data.copy()\n",
        "\n",
        "    for col in normalized_data.columns:\n",
        "        if normalized_data[col].dtype != 'object' and col != \"Date\":\n",
        "            normalized_data[col] = scaler.fit_transform(normalized_data[[col]])\n",
        "\n",
        "    return normalized_data"
      ],
      "metadata": {
        "id": "Zs2cklyXDyIB"
      },
      "execution_count": 16,
      "outputs": []
    },
    {
      "cell_type": "code",
      "source": [
        "# Modify the predict_new_data function to use the encoding and normalization functions\n",
        "\n",
        "def predict_new_data(model, new_data):\n",
        "    # Encode categorical variables and normalize numerical variables\n",
        "    encoded_new_data = encode_data(new_data)\n",
        "    normalized_new_data = normalize_data(encoded_new_data)\n",
        "\n",
        "    # Get the feature names from the trained model\n",
        "    feature_names = X.columns.tolist()\n",
        "\n",
        "    # Remove columns that are not in the training data\n",
        "    for col in normalized_new_data.columns:\n",
        "        if col not in feature_names:\n",
        "            normalized_new_data.drop(columns=[col], inplace=True)\n",
        "\n",
        "    # Add missing columns from the training data and fill them with zeros\n",
        "    for col in feature_names:\n",
        "        if col not in normalized_new_data.columns:\n",
        "            normalized_new_data[col] = 0\n",
        "\n",
        "    # Ensure the columns are in the same order as the training data\n",
        "    normalized_new_data = normalized_new_data[feature_names]\n",
        "\n",
        "    # Make predictions\n",
        "    predictions = model.predict(normalized_new_data)\n",
        "\n",
        "    return predictions"
      ],
      "metadata": {
        "id": "E5EseB11D34K"
      },
      "execution_count": 17,
      "outputs": []
    },
    {
      "cell_type": "code",
      "source": [
        "# Train the best model on the entire dataset\n",
        "best_model = RandomForestClassifier(random_state=42)\n",
        "best_model.fit(X, y_encoded)"
      ],
      "metadata": {
        "colab": {
          "base_uri": "https://localhost:8080/",
          "height": 75
        },
        "id": "yHwvmJ4DEI9O",
        "outputId": "cf4ecf6c-66b7-43c1-8abd-d9d1bdedb788"
      },
      "execution_count": 18,
      "outputs": [
        {
          "output_type": "execute_result",
          "data": {
            "text/plain": [
              "RandomForestClassifier(random_state=42)"
            ],
            "text/html": [
              "<style>#sk-container-id-1 {color: black;background-color: white;}#sk-container-id-1 pre{padding: 0;}#sk-container-id-1 div.sk-toggleable {background-color: white;}#sk-container-id-1 label.sk-toggleable__label {cursor: pointer;display: block;width: 100%;margin-bottom: 0;padding: 0.3em;box-sizing: border-box;text-align: center;}#sk-container-id-1 label.sk-toggleable__label-arrow:before {content: \"▸\";float: left;margin-right: 0.25em;color: #696969;}#sk-container-id-1 label.sk-toggleable__label-arrow:hover:before {color: black;}#sk-container-id-1 div.sk-estimator:hover label.sk-toggleable__label-arrow:before {color: black;}#sk-container-id-1 div.sk-toggleable__content {max-height: 0;max-width: 0;overflow: hidden;text-align: left;background-color: #f0f8ff;}#sk-container-id-1 div.sk-toggleable__content pre {margin: 0.2em;color: black;border-radius: 0.25em;background-color: #f0f8ff;}#sk-container-id-1 input.sk-toggleable__control:checked~div.sk-toggleable__content {max-height: 200px;max-width: 100%;overflow: auto;}#sk-container-id-1 input.sk-toggleable__control:checked~label.sk-toggleable__label-arrow:before {content: \"▾\";}#sk-container-id-1 div.sk-estimator input.sk-toggleable__control:checked~label.sk-toggleable__label {background-color: #d4ebff;}#sk-container-id-1 div.sk-label input.sk-toggleable__control:checked~label.sk-toggleable__label {background-color: #d4ebff;}#sk-container-id-1 input.sk-hidden--visually {border: 0;clip: rect(1px 1px 1px 1px);clip: rect(1px, 1px, 1px, 1px);height: 1px;margin: -1px;overflow: hidden;padding: 0;position: absolute;width: 1px;}#sk-container-id-1 div.sk-estimator {font-family: monospace;background-color: #f0f8ff;border: 1px dotted black;border-radius: 0.25em;box-sizing: border-box;margin-bottom: 0.5em;}#sk-container-id-1 div.sk-estimator:hover {background-color: #d4ebff;}#sk-container-id-1 div.sk-parallel-item::after {content: \"\";width: 100%;border-bottom: 1px solid gray;flex-grow: 1;}#sk-container-id-1 div.sk-label:hover label.sk-toggleable__label {background-color: #d4ebff;}#sk-container-id-1 div.sk-serial::before {content: \"\";position: absolute;border-left: 1px solid gray;box-sizing: border-box;top: 0;bottom: 0;left: 50%;z-index: 0;}#sk-container-id-1 div.sk-serial {display: flex;flex-direction: column;align-items: center;background-color: white;padding-right: 0.2em;padding-left: 0.2em;position: relative;}#sk-container-id-1 div.sk-item {position: relative;z-index: 1;}#sk-container-id-1 div.sk-parallel {display: flex;align-items: stretch;justify-content: center;background-color: white;position: relative;}#sk-container-id-1 div.sk-item::before, #sk-container-id-1 div.sk-parallel-item::before {content: \"\";position: absolute;border-left: 1px solid gray;box-sizing: border-box;top: 0;bottom: 0;left: 50%;z-index: -1;}#sk-container-id-1 div.sk-parallel-item {display: flex;flex-direction: column;z-index: 1;position: relative;background-color: white;}#sk-container-id-1 div.sk-parallel-item:first-child::after {align-self: flex-end;width: 50%;}#sk-container-id-1 div.sk-parallel-item:last-child::after {align-self: flex-start;width: 50%;}#sk-container-id-1 div.sk-parallel-item:only-child::after {width: 0;}#sk-container-id-1 div.sk-dashed-wrapped {border: 1px dashed gray;margin: 0 0.4em 0.5em 0.4em;box-sizing: border-box;padding-bottom: 0.4em;background-color: white;}#sk-container-id-1 div.sk-label label {font-family: monospace;font-weight: bold;display: inline-block;line-height: 1.2em;}#sk-container-id-1 div.sk-label-container {text-align: center;}#sk-container-id-1 div.sk-container {/* jupyter's `normalize.less` sets `[hidden] { display: none; }` but bootstrap.min.css set `[hidden] { display: none !important; }` so we also need the `!important` here to be able to override the default hidden behavior on the sphinx rendered scikit-learn.org. See: https://github.com/scikit-learn/scikit-learn/issues/21755 */display: inline-block !important;position: relative;}#sk-container-id-1 div.sk-text-repr-fallback {display: none;}</style><div id=\"sk-container-id-1\" class=\"sk-top-container\"><div class=\"sk-text-repr-fallback\"><pre>RandomForestClassifier(random_state=42)</pre><b>In a Jupyter environment, please rerun this cell to show the HTML representation or trust the notebook. <br />On GitHub, the HTML representation is unable to render, please try loading this page with nbviewer.org.</b></div><div class=\"sk-container\" hidden><div class=\"sk-item\"><div class=\"sk-estimator sk-toggleable\"><input class=\"sk-toggleable__control sk-hidden--visually\" id=\"sk-estimator-id-1\" type=\"checkbox\" checked><label for=\"sk-estimator-id-1\" class=\"sk-toggleable__label sk-toggleable__label-arrow\">RandomForestClassifier</label><div class=\"sk-toggleable__content\"><pre>RandomForestClassifier(random_state=42)</pre></div></div></div></div></div>"
            ]
          },
          "metadata": {},
          "execution_count": 18
        }
      ]
    },
    {
      "cell_type": "code",
      "source": [
        "# Create a sample DataFrame with new data\n",
        "sample_data = {\n",
        "    \"Open\": [150.0, 152.0, 153.5],\n",
        "    \"High\": [153.0, 155.0, 156.0],\n",
        "    \"Low\": [149.0, 150.0, 151.0],\n",
        "    \"Close\": [151.0, 154.0, 152.0],\n",
        "    \"Volume\": [2000000, 2500000, 1800000],\n",
        "    \"Dividends\": [0.0, 0.0, 0.0],\n",
        "    \"Stock Splits\": [0, 0, 0]\n",
        "}\n",
        "\n",
        "new_data = pd.DataFrame(sample_data)\n",
        "\n",
        "# Make predictions using the trained best model\n",
        "predictions = predict_new_data(best_model, new_data)\n",
        "\n",
        "# Print the predictions\n",
        "print(predictions)"
      ],
      "metadata": {
        "colab": {
          "base_uri": "https://localhost:8080/"
        },
        "id": "h4tCiczPEOES",
        "outputId": "821c12be-f9a5-4738-c01b-f2259f0cd938"
      },
      "execution_count": 19,
      "outputs": [
        {
          "output_type": "stream",
          "name": "stdout",
          "text": [
            "[1 1 0]\n"
          ]
        }
      ]
    },
    {
      "cell_type": "code",
      "source": [
        "import numpy as np\n",
        "from sklearn.model_selection import GridSearchCV\n",
        "\n",
        "def optimize_hyperparameters(model, param_grid, X, y, cv=5, scoring='roc_auc'):\n",
        "    \"\"\"\n",
        "    This function performs grid search to optimize hyperparameters for a given model.\n",
        "\n",
        "    :param model: The model for which to optimize hyperparameters\n",
        "    :param param_grid: A dictionary containing the hyperparameters and their possible values\n",
        "    :param X: The feature matrix\n",
        "    :param y: The target variable\n",
        "    :param cv: The number of cross-validation folds (default: 5)\n",
        "    :param scoring: The scoring metric used for optimization (default: 'roc_auc')\n",
        "    :return: The best model found by grid search\n",
        "    \"\"\"\n",
        "    grid_search = GridSearchCV(model, param_grid, scoring=scoring, cv=cv, n_jobs=-1, verbose=1)\n",
        "    grid_search.fit(X, y)\n",
        "\n",
        "    print(f\"Best {scoring} score: {grid_search.best_score_}\")\n",
        "    print(\"Best hyperparameters:\")\n",
        "    for key, value in grid_search.best_params_.items():\n",
        "        print(f\"  {key}: {value}\")\n",
        "\n",
        "    return grid_search.best_estimator_"
      ],
      "metadata": {
        "id": "fQYyzsgoEgDo"
      },
      "execution_count": 20,
      "outputs": []
    },
    {
      "cell_type": "code",
      "source": [
        "# Define the parameter grid\n",
        "param_grid = {\n",
        "    'n_estimators': [10, 50, 100, 200],\n",
        "    'max_depth': [None, 10, 20, 30],\n",
        "    'min_samples_split': [2, 5, 10],\n",
        "    'min_samples_leaf': [1, 2, 4],\n",
        "    'max_features': ['auto', 'sqrt', 'log2'],\n",
        "    'bootstrap': [True, False]\n",
        "}\n",
        "\n",
        "# Optimize the hyperparameters for the best model\n",
        "best_model_optimized = optimize_hyperparameters(best_model, param_grid, X, y)"
      ],
      "metadata": {
        "colab": {
          "base_uri": "https://localhost:8080/"
        },
        "id": "UbS09daiEpS-",
        "outputId": "d0ca3161-a2bc-496d-eeb1-01029b9f88d4"
      },
      "execution_count": 21,
      "outputs": [
        {
          "output_type": "stream",
          "name": "stdout",
          "text": [
            "Fitting 5 folds for each of 864 candidates, totalling 4320 fits\n"
          ]
        },
        {
          "output_type": "stream",
          "name": "stderr",
          "text": [
            "/usr/local/lib/python3.10/dist-packages/sklearn/ensemble/_forest.py:424: FutureWarning: `max_features='auto'` has been deprecated in 1.1 and will be removed in 1.3. To keep the past behaviour, explicitly set `max_features='sqrt'` or remove this parameter as it is also the default value for RandomForestClassifiers and ExtraTreesClassifiers.\n",
            "  warn(\n"
          ]
        },
        {
          "output_type": "stream",
          "name": "stdout",
          "text": [
            "Best roc_auc score: 0.5666167570435671\n",
            "Best hyperparameters:\n",
            "  bootstrap: True\n",
            "  max_depth: None\n",
            "  max_features: auto\n",
            "  min_samples_leaf: 2\n",
            "  min_samples_split: 2\n",
            "  n_estimators: 50\n"
          ]
        }
      ]
    },
    {
      "cell_type": "code",
      "source": [
        "def retrain_and_compare_baseline_optimized(best_model, best_model_optimized, X, y, test_size=0.25, random_state=42):\n",
        "    # Split the data into training and testing sets\n",
        "    X_train, X_test, y_train, y_test = train_test_split(X, y, test_size=test_size, random_state=random_state)\n",
        "\n",
        "    # Fit the baseline model\n",
        "    best_model.fit(X_train, y_train)\n",
        "\n",
        "    # Make predictions with the baseline model\n",
        "    y_pred_baseline = best_model.predict(X_test)\n",
        "\n",
        "    # Compute performance metrics for the baseline model\n",
        "    accuracy_baseline = accuracy_score(y_test, y_pred_baseline)\n",
        "    precision_baseline = precision_score(y_test, y_pred_baseline)\n",
        "    recall_baseline = recall_score(y_test, y_pred_baseline)\n",
        "    f1_baseline = f1_score(y_test, y_pred_baseline)\n",
        "    roc_auc_baseline = roc_auc_score(y_test, y_pred_baseline)\n",
        "\n",
        "    # Fit the optimized model\n",
        "    best_model_optimized.fit(X_train, y_train)\n",
        "\n",
        "    # Make predictions with the optimized model\n",
        "    y_pred_optimized = best_model_optimized.predict(X_test)\n",
        "\n",
        "    # Compute performance metrics for the optimized model\n",
        "    accuracy_optimized = accuracy_score(y_test, y_pred_optimized)\n",
        "    precision_optimized = precision_score(y_test, y_pred_optimized)\n",
        "    recall_optimized = recall_score(y_test, y_pred_optimized)\n",
        "    f1_optimized = f1_score(y_test, y_pred_optimized)\n",
        "    roc_auc_optimized = roc_auc_score(y_test, y_pred_optimized)\n",
        "\n",
        "    # Create a table to compare the baseline and optimized model performance\n",
        "    comparison_table = pd.DataFrame(\n",
        "        {\n",
        "            'Model': ['Baseline', 'Optimized'],\n",
        "            'Accuracy': [accuracy_baseline, accuracy_optimized],\n",
        "            'Precision': [precision_baseline, precision_optimized],\n",
        "            'Recall': [recall_baseline, recall_optimized],\n",
        "            'F1 Score': [f1_baseline, f1_optimized],\n",
        "            'ROC AUC': [roc_auc_baseline, roc_auc_optimized]\n",
        "        }\n",
        "    )\n",
        "\n",
        "    return comparison_table\n",
        "\n",
        "# Train the best model with the best parameters and compare the performance\n",
        "comparison_table = retrain_and_compare_baseline_optimized(best_model, best_model_optimized, X, y_encoded)\n",
        "print(comparison_table)"
      ],
      "metadata": {
        "colab": {
          "base_uri": "https://localhost:8080/"
        },
        "id": "s-C5OQS1FND0",
        "outputId": "16491dea-eb60-45d1-8a5a-ad7e36c81e78"
      },
      "execution_count": 23,
      "outputs": [
        {
          "output_type": "stream",
          "name": "stderr",
          "text": [
            "/usr/local/lib/python3.10/dist-packages/sklearn/ensemble/_forest.py:424: FutureWarning: `max_features='auto'` has been deprecated in 1.1 and will be removed in 1.3. To keep the past behaviour, explicitly set `max_features='sqrt'` or remove this parameter as it is also the default value for RandomForestClassifiers and ExtraTreesClassifiers.\n",
            "  warn(\n"
          ]
        },
        {
          "output_type": "stream",
          "name": "stdout",
          "text": [
            "       Model  Accuracy  Precision    Recall  F1 Score   ROC AUC\n",
            "0   Baseline  0.661862   0.656874  0.673494  0.665080  0.661897\n",
            "1  Optimized  0.655255   0.648492  0.673494  0.660757  0.655310\n"
          ]
        }
      ]
    }
  ]
}