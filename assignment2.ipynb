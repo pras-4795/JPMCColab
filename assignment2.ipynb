{
  "nbformat": 4,
  "nbformat_minor": 0,
  "metadata": {
    "colab": {
      "provenance": [],
      "toc_visible": true,
      "authorship_tag": "ABX9TyNGpaqYtAulVEiB9gF3t+b6",
      "include_colab_link": true
    },
    "kernelspec": {
      "name": "python3",
      "display_name": "Python 3"
    },
    "language_info": {
      "name": "python"
    }
  },
  "cells": [
    {
      "cell_type": "markdown",
      "metadata": {
        "id": "view-in-github",
        "colab_type": "text"
      },
      "source": [
        "<a href=\"https://colab.research.google.com/github/pras-4795/JPMCColab/blob/main/assignment2.ipynb\" target=\"_parent\"><img src=\"https://colab.research.google.com/assets/colab-badge.svg\" alt=\"Open In Colab\"/></a>"
      ]
    },
    {
      "cell_type": "code",
      "execution_count": 1,
      "metadata": {
        "id": "cJIP32S9LPF_"
      },
      "outputs": [],
      "source": [
        "import yfinance as yf\n",
        "import pandas as pd"
      ]
    },
    {
      "cell_type": "code",
      "source": [
        "def fetch_stock_data(tickers=[\"JPM\"], start=\"2000-01-01\", end=\"2021-12-31\"):\n",
        "    \"\"\"\n",
        "    Fetches stock data for the specified tickers and time period using the yfinance library.\n",
        "\n",
        "    Parameters:\n",
        "    tickers (list): A list of stock tickers (default is [\"JPM\"]).\n",
        "    start (str): The start date for fetching data in the format YYYY-MM-DD (default is \"2000-01-01\").\n",
        "    end (str): The end date for fetching data in the format YYYY-MM-DD (default is \"2021-12-31\").\n",
        "\n",
        "    Returns:\n",
        "    data (pd.DataFrame): A pandas DataFrame containing the fetched stock data.\n",
        "    \"\"\"\n",
        "\n",
        "    # Combine data for all tickers into a single DataFrame\n",
        "    data = pd.DataFrame()\n",
        "    for ticker in tickers:\n",
        "        stock_data = yf.download(ticker, start=start, end=end)\n",
        "        stock_data[\"Ticker\"] = ticker\n",
        "        data = data.append(stock_data, sort=True)\n",
        "\n",
        "    # Reset the index and return the final DataFrame\n",
        "    data.reset_index(inplace=True)\n",
        "    return data\n"
      ],
      "metadata": {
        "id": "t6g3vMd7LzRQ"
      },
      "execution_count": 2,
      "outputs": []
    },
    {
      "cell_type": "code",
      "source": [
        "stock_data = fetch_stock_data(tickers=[\"JPM\", \"AAPL\",\"GOOG\",\"MSFT\",\"DRREDDY.NS\"], start=\"2010-01-01\", end=\"2023-3-27\")\n",
        "print(stock_data.head())"
      ],
      "metadata": {
        "colab": {
          "base_uri": "https://localhost:8080/",
          "height": 0
        },
        "id": "7wd2RxFAMfip",
        "outputId": "6ac8e9f1-ac5d-4381-9a48-41531612a5c4"
      },
      "execution_count": 3,
      "outputs": [
        {
          "output_type": "stream",
          "name": "stdout",
          "text": [
            "\r[*********************100%%**********************]  1 of 1 completed\n"
          ]
        },
        {
          "output_type": "stream",
          "name": "stderr",
          "text": [
            "<ipython-input-2-a9055f6aa203>:19: FutureWarning: The frame.append method is deprecated and will be removed from pandas in a future version. Use pandas.concat instead.\n",
            "  data = data.append(stock_data, sort=True)\n"
          ]
        },
        {
          "output_type": "stream",
          "name": "stdout",
          "text": [
            "\r[*********************100%%**********************]  1 of 1 completed\n"
          ]
        },
        {
          "output_type": "stream",
          "name": "stderr",
          "text": [
            "<ipython-input-2-a9055f6aa203>:19: FutureWarning: The frame.append method is deprecated and will be removed from pandas in a future version. Use pandas.concat instead.\n",
            "  data = data.append(stock_data, sort=True)\n"
          ]
        },
        {
          "output_type": "stream",
          "name": "stdout",
          "text": [
            "\r[*********************100%%**********************]  1 of 1 completed\n"
          ]
        },
        {
          "output_type": "stream",
          "name": "stderr",
          "text": [
            "<ipython-input-2-a9055f6aa203>:19: FutureWarning: The frame.append method is deprecated and will be removed from pandas in a future version. Use pandas.concat instead.\n",
            "  data = data.append(stock_data, sort=True)\n"
          ]
        },
        {
          "output_type": "stream",
          "name": "stdout",
          "text": [
            "\r[*********************100%%**********************]  1 of 1 completed\n"
          ]
        },
        {
          "output_type": "stream",
          "name": "stderr",
          "text": [
            "<ipython-input-2-a9055f6aa203>:19: FutureWarning: The frame.append method is deprecated and will be removed from pandas in a future version. Use pandas.concat instead.\n",
            "  data = data.append(stock_data, sort=True)\n"
          ]
        },
        {
          "output_type": "stream",
          "name": "stdout",
          "text": [
            "\r[*********************100%%**********************]  1 of 1 completed\n",
            "        Date  Adj Close      Close       High        Low       Open Ticker  \\\n",
            "0 2010-01-04  30.073071  42.849998  42.990002  41.669998  41.790001    JPM   \n",
            "1 2010-01-05  30.655584  43.680000  43.840000  42.779999  42.790001    JPM   \n",
            "2 2010-01-06  30.824024  43.919998  44.090000  43.310001  43.450001    JPM   \n",
            "3 2010-01-07  31.434620  44.790001  45.119999  43.610001  43.790001    JPM   \n",
            "4 2010-01-08  31.357412  44.680000  44.700001  44.080002  44.369999    JPM   \n",
            "\n",
            "     Volume  \n",
            "0  35460500  \n",
            "1  41208300  \n",
            "2  27729000  \n",
            "3  44864700  \n",
            "4  33110100  \n"
          ]
        },
        {
          "output_type": "stream",
          "name": "stderr",
          "text": [
            "<ipython-input-2-a9055f6aa203>:19: FutureWarning: The frame.append method is deprecated and will be removed from pandas in a future version. Use pandas.concat instead.\n",
            "  data = data.append(stock_data, sort=True)\n"
          ]
        }
      ]
    },
    {
      "cell_type": "code",
      "source": [
        "def add_target_column(data, target_col=\"Target\"):\n",
        "    \"\"\"\n",
        "    Adds a target column to the input DataFrame, indicating whether the previous day's closing price was up or down.\n",
        "\n",
        "    Parameters:\n",
        "    data (pd.DataFrame): The input DataFrame containing stock data.\n",
        "    target_col (str): The name of the target column to be added (default is \"Target\").\n",
        "\n",
        "    Returns:\n",
        "    data (pd.DataFrame): The DataFrame with the new target column added.\n",
        "    \"\"\"\n",
        "\n",
        "    # Calculate the difference between consecutive closing prices\n",
        "    data[\"Price_Diff\"] = data[\"Close\"].diff()\n",
        "\n",
        "    # Assign 1 for \"UP\" or 0 for \"DOWN\" based on the sign of the price difference\n",
        "    data[target_col] = data[\"Price_Diff\"].apply(lambda x: 1 if x > 0 else 0)\n",
        "\n",
        "    # Drop the first row since it has no previous day to compare to, and the \"Price_Diff\" column\n",
        "    data = data.drop(0).drop(columns=[\"Price_Diff\"])\n",
        "\n",
        "    return data"
      ],
      "metadata": {
        "id": "rRCfOR3aNDVn"
      },
      "execution_count": 4,
      "outputs": []
    },
    {
      "cell_type": "code",
      "source": [
        "stock_data_with_target = add_target_column(stock_data)\n",
        "print(stock_data_with_target.head())"
      ],
      "metadata": {
        "colab": {
          "base_uri": "https://localhost:8080/",
          "height": 0
        },
        "id": "UpRcpU8mS7Qp",
        "outputId": "15f8f285-93c9-466b-aba6-ad227a8ae50c"
      },
      "execution_count": 5,
      "outputs": [
        {
          "output_type": "stream",
          "name": "stdout",
          "text": [
            "        Date  Adj Close      Close       High        Low       Open Ticker  \\\n",
            "1 2010-01-05  30.655584  43.680000  43.840000  42.779999  42.790001    JPM   \n",
            "2 2010-01-06  30.824024  43.919998  44.090000  43.310001  43.450001    JPM   \n",
            "3 2010-01-07  31.434620  44.790001  45.119999  43.610001  43.790001    JPM   \n",
            "4 2010-01-08  31.357412  44.680000  44.700001  44.080002  44.369999    JPM   \n",
            "5 2010-01-11  31.252136  44.529999  45.189999  44.310001  45.119999    JPM   \n",
            "\n",
            "     Volume  Target  \n",
            "1  41208300       1  \n",
            "2  27729000       1  \n",
            "3  44864700       1  \n",
            "4  33110100       0  \n",
            "5  31878700       0  \n"
          ]
        }
      ]
    },
    {
      "cell_type": "code",
      "source": [
        "from sklearn.preprocessing import LabelEncoder, StandardScaler, MinMaxScaler"
      ],
      "metadata": {
        "id": "R62Ch9d3TV70"
      },
      "execution_count": 6,
      "outputs": []
    },
    {
      "cell_type": "code",
      "source": [
        "def encode_and_preprocess(data, categorical_cols=None, numerical_cols=None, target_col=\"Target\"):\n",
        "    \"\"\"\n",
        "    Encodes categorical variables and standardizes/normalizes numerical variables in the input DataFrame.\n",
        "\n",
        "    Parameters:\n",
        "    data (pd.DataFrame): The input DataFrame containing stock data.\n",
        "    categorical_cols (list): A list of categorical column names to be encoded (default is None).\n",
        "    numerical_cols (list): A list of numerical column names to be standardized/normalized (default is None).\n",
        "    target_col (str): The name of the target column (default is \"Target\").\n",
        "\n",
        "    Returns:\n",
        "    data (pd.DataFrame): The preprocessed DataFrame.\n",
        "    \"\"\"\n",
        "\n",
        "    # Make a copy of the input DataFrame to avoid modifying the original data\n",
        "    data = data.copy()\n",
        "\n",
        "    # Encode categorical columns\n",
        "    if categorical_cols:\n",
        "        le = LabelEncoder()\n",
        "        for col in categorical_cols:\n",
        "            data[col] = le.fit_transform(data[col])\n",
        "\n",
        "    # Standardize/normalize numerical columns\n",
        "    if numerical_cols:\n",
        "        scaler = StandardScaler()\n",
        "        data[numerical_cols] = scaler.fit_transform(data[numerical_cols])\n",
        "\n",
        "    # Ensure the target column is the last column in the DataFrame\n",
        "    data = data[[col for col in data.columns if col != target_col] + [target_col]]\n",
        "\n",
        "    return data"
      ],
      "metadata": {
        "id": "O8b217FzTeFi"
      },
      "execution_count": 7,
      "outputs": []
    },
    {
      "cell_type": "code",
      "source": [
        "preprocessed_data = encode_and_preprocess(stock_data_with_target, categorical_cols=[\"Ticker\"], numerical_cols=[\"Open\", \"High\", \"Low\", \"Close\", \"Adj Close\", \"Volume\"])\n",
        "print(preprocessed_data.head())"
      ],
      "metadata": {
        "colab": {
          "base_uri": "https://localhost:8080/",
          "height": 0
        },
        "id": "sIqbXkmJT1jz",
        "outputId": "a915f689-41b1-446c-a157-76377e53eaff"
      },
      "execution_count": 8,
      "outputs": [
        {
          "output_type": "stream",
          "name": "stdout",
          "text": [
            "        Date  Adj Close     Close      High       Low      Open  Ticker  \\\n",
            "1 2010-01-05  -0.479333 -0.476202 -0.476400 -0.476456 -0.476747       3   \n",
            "2 2010-01-06  -0.479190 -0.476006 -0.476198 -0.476019 -0.476209       3   \n",
            "3 2010-01-07  -0.478669 -0.475297 -0.475368 -0.475771 -0.475932       3   \n",
            "4 2010-01-08  -0.478735 -0.475386 -0.475707 -0.475384 -0.475460       3   \n",
            "5 2010-01-11  -0.478824 -0.475509 -0.475312 -0.475194 -0.474849       3   \n",
            "\n",
            "     Volume  Target  \n",
            "1 -0.239786       1  \n",
            "2 -0.337784       1  \n",
            "3 -0.213203       1  \n",
            "4 -0.298662       0  \n",
            "5 -0.307615       0  \n"
          ]
        }
      ]
    },
    {
      "cell_type": "code",
      "source": [
        "import time\n",
        "import numpy as np\n",
        "from sklearn.model_selection import train_test_split, cross_val_score\n",
        "from sklearn.metrics import roc_auc_score, accuracy_score, precision_score, recall_score, f1_score\n",
        "from sklearn.linear_model import LogisticRegression\n",
        "from sklearn.tree import DecisionTreeClassifier\n",
        "from sklearn.ensemble import RandomForestClassifier\n",
        "from sklearn.svm import SVC\n",
        "from sklearn.neighbors import KNeighborsClassifier\n",
        "from xgboost import XGBClassifier\n",
        "from lightgbm import LGBMClassifier\n",
        "from sklearn.naive_bayes import GaussianNB"
      ],
      "metadata": {
        "id": "nVCGIVSSUHSb"
      },
      "execution_count": 9,
      "outputs": []
    },
    {
      "cell_type": "code",
      "source": [
        "def evaluate_classifiers(data, target_col=\"Target\", test_size=0.2, random_state=42, exclude_columns=None):\n",
        "    \"\"\"\n",
        "    Trains and evaluates various classifiers on the input DataFrame, displaying performance metrics and training time.\n",
        "\n",
        "    Parameters:\n",
        "    data (pd.DataFrame): The preprocessed DataFrame containing stock data.\n",
        "    target_col (str): The name of the target column (default is \"Target\").\n",
        "    test_size (float): The proportion of the dataset to include in the test split (default is 0.2).\n",
        "    random_state (int): A random seed for reproducibility (default is 42).\n",
        "    exclude_columns (list): A list of column names to be excluded from the features (default is None).\n",
        "\n",
        "    Returns:\n",
        "    performance_table (pd.DataFrame): A DataFrame displaying each algorithm's name, training time, and performance metrics.\n",
        "    \"\"\"\n",
        "\n",
        "    # Exclude the specified columns from the features, if provided\n",
        "    if exclude_columns:\n",
        "        feature_columns = [col for col in data.columns if col not in exclude_columns + [target_col]]\n",
        "    else:\n",
        "        feature_columns = [col for col in data.columns if col != target_col]\n",
        "\n",
        "    # Split the data into training and testing sets\n",
        "    X = data[feature_columns]\n",
        "    y = data[target_col]\n",
        "    X_train, X_test, y_train, y_test = train_test_split(X, y, test_size=test_size, random_state=random_state)\n",
        "\n",
        "    # Encode the target column\n",
        "    le = LabelEncoder()\n",
        "    y_train = le.fit_transform(y_train)\n",
        "    y_test = le.transform(y_test)\n",
        "\n",
        "    # Define the classifiers to be evaluated\n",
        "    classifiers = [\n",
        "        (\"Logistic Regression\", LogisticRegression(random_state=random_state)),\n",
        "        (\"Decision Tree\", DecisionTreeClassifier(random_state=random_state)),\n",
        "        (\"Random Forest\", RandomForestClassifier(random_state=random_state)),\n",
        "        (\"Support Vector Machine\", SVC(random_state=random_state, probability=True)),\n",
        "        (\"K-Nearest Neighbors\", KNeighborsClassifier()),\n",
        "        (\"XGBoost\", XGBClassifier(random_state=random_state)),\n",
        "        (\"LightGBM\", LGBMClassifier(random_state=random_state)),\n",
        "    ]\n",
        "\n",
        "    # Evaluate each classifier and store the results in a list\n",
        "    results = []\n",
        "    for name, classifier in classifiers:\n",
        "        start_time = time.time()\n",
        "        classifier.fit(X_train, y_train)\n",
        "        end_time = time.time()\n",
        "\n",
        "        # Compute the performance metrics\n",
        "        y_pred = classifier.predict(X_test)\n",
        "        y_proba = classifier.predict_proba(X_test)[:, 1]\n",
        "        accuracy = accuracy_score(y_test, y_pred)\n",
        "        precision = precision_score(y_test, y_pred)\n",
        "        recall = recall_score(y_test, y_pred)\n",
        "        f1 = f1_score(y_test, y_pred)\n",
        "        roc_auc = roc_auc_score(y_test, y_proba)\n",
        "\n",
        "        results.append([name, end_time - start_time, accuracy, precision, recall, f1, roc_auc])\n",
        "    # Create a DataFrame from the results and sort it by the best AUC/ROC score\n",
        "    performance_table = pd.DataFrame(results, columns=[\"Classifier\", \"Training Time\", \"Accuracy\", \"Precision\", \"Recall\", \"F1 Score\", \"ROC AUC\"])\n",
        "    performance_table = performance_table.sort_values(by=\"ROC AUC\", ascending=False).reset_index(drop=True)\n",
        "\n",
        "    return performance_table"
      ],
      "metadata": {
        "id": "CGijEyacUko0"
      },
      "execution_count": 10,
      "outputs": []
    },
    {
      "cell_type": "code",
      "source": [
        "performance_table = evaluate_classifiers(preprocessed_data, exclude_columns=[\"Date\"])\n",
        "performance_table"
      ],
      "metadata": {
        "colab": {
          "base_uri": "https://localhost:8080/",
          "height": 412
        },
        "id": "1LJ_anBFXKuc",
        "outputId": "3bba5503-e48d-4b8f-c132-c5b31f443f8a"
      },
      "execution_count": 11,
      "outputs": [
        {
          "output_type": "stream",
          "name": "stdout",
          "text": [
            "[LightGBM] [Warning] Found whitespace in feature_names, replace with underlines\n",
            "[LightGBM] [Info] Number of positive: 6869, number of negative: 6396\n",
            "[LightGBM] [Warning] Auto-choosing col-wise multi-threading, the overhead of testing was 0.001921 seconds.\n",
            "You can set `force_col_wise=true` to remove the overhead.\n",
            "[LightGBM] [Info] Total Bins 1535\n",
            "[LightGBM] [Info] Number of data points in the train set: 13265, number of used features: 7\n",
            "[LightGBM] [Info] [binary:BoostFromScore]: pavg=0.517829 -> initscore=0.071346\n",
            "[LightGBM] [Info] Start training from score 0.071346\n"
          ]
        },
        {
          "output_type": "execute_result",
          "data": {
            "text/plain": [
              "               Classifier  Training Time  Accuracy  Precision    Recall  \\\n",
              "0                 XGBoost       2.219308  0.719928   0.714920  0.756455   \n",
              "1           Random Forest      15.187976  0.697618   0.705091  0.707160   \n",
              "2                LightGBM       0.310904  0.668375   0.658115  0.737676   \n",
              "3           Decision Tree       0.692570  0.663250   0.672952  0.670188   \n",
              "4     Logistic Regression       0.127610  0.583057   0.556178  0.932512   \n",
              "5     K-Nearest Neighbors       0.014227  0.564667   0.572545  0.602113   \n",
              "6  Support Vector Machine      64.928555  0.523063   0.519792  0.940141   \n",
              "\n",
              "   F1 Score   ROC AUC  \n",
              "0  0.735101  0.780606  \n",
              "1  0.706124  0.772099  \n",
              "2  0.695628  0.742040  \n",
              "3  0.671567  0.663054  \n",
              "4  0.696777  0.641742  \n",
              "5  0.586957  0.594132  \n",
              "6  0.669453  0.529285  "
            ],
            "text/html": [
              "\n",
              "  <div id=\"df-c7dcdb01-75d6-4262-8c15-b9b516803718\" class=\"colab-df-container\">\n",
              "    <div>\n",
              "<style scoped>\n",
              "    .dataframe tbody tr th:only-of-type {\n",
              "        vertical-align: middle;\n",
              "    }\n",
              "\n",
              "    .dataframe tbody tr th {\n",
              "        vertical-align: top;\n",
              "    }\n",
              "\n",
              "    .dataframe thead th {\n",
              "        text-align: right;\n",
              "    }\n",
              "</style>\n",
              "<table border=\"1\" class=\"dataframe\">\n",
              "  <thead>\n",
              "    <tr style=\"text-align: right;\">\n",
              "      <th></th>\n",
              "      <th>Classifier</th>\n",
              "      <th>Training Time</th>\n",
              "      <th>Accuracy</th>\n",
              "      <th>Precision</th>\n",
              "      <th>Recall</th>\n",
              "      <th>F1 Score</th>\n",
              "      <th>ROC AUC</th>\n",
              "    </tr>\n",
              "  </thead>\n",
              "  <tbody>\n",
              "    <tr>\n",
              "      <th>0</th>\n",
              "      <td>XGBoost</td>\n",
              "      <td>2.219308</td>\n",
              "      <td>0.719928</td>\n",
              "      <td>0.714920</td>\n",
              "      <td>0.756455</td>\n",
              "      <td>0.735101</td>\n",
              "      <td>0.780606</td>\n",
              "    </tr>\n",
              "    <tr>\n",
              "      <th>1</th>\n",
              "      <td>Random Forest</td>\n",
              "      <td>15.187976</td>\n",
              "      <td>0.697618</td>\n",
              "      <td>0.705091</td>\n",
              "      <td>0.707160</td>\n",
              "      <td>0.706124</td>\n",
              "      <td>0.772099</td>\n",
              "    </tr>\n",
              "    <tr>\n",
              "      <th>2</th>\n",
              "      <td>LightGBM</td>\n",
              "      <td>0.310904</td>\n",
              "      <td>0.668375</td>\n",
              "      <td>0.658115</td>\n",
              "      <td>0.737676</td>\n",
              "      <td>0.695628</td>\n",
              "      <td>0.742040</td>\n",
              "    </tr>\n",
              "    <tr>\n",
              "      <th>3</th>\n",
              "      <td>Decision Tree</td>\n",
              "      <td>0.692570</td>\n",
              "      <td>0.663250</td>\n",
              "      <td>0.672952</td>\n",
              "      <td>0.670188</td>\n",
              "      <td>0.671567</td>\n",
              "      <td>0.663054</td>\n",
              "    </tr>\n",
              "    <tr>\n",
              "      <th>4</th>\n",
              "      <td>Logistic Regression</td>\n",
              "      <td>0.127610</td>\n",
              "      <td>0.583057</td>\n",
              "      <td>0.556178</td>\n",
              "      <td>0.932512</td>\n",
              "      <td>0.696777</td>\n",
              "      <td>0.641742</td>\n",
              "    </tr>\n",
              "    <tr>\n",
              "      <th>5</th>\n",
              "      <td>K-Nearest Neighbors</td>\n",
              "      <td>0.014227</td>\n",
              "      <td>0.564667</td>\n",
              "      <td>0.572545</td>\n",
              "      <td>0.602113</td>\n",
              "      <td>0.586957</td>\n",
              "      <td>0.594132</td>\n",
              "    </tr>\n",
              "    <tr>\n",
              "      <th>6</th>\n",
              "      <td>Support Vector Machine</td>\n",
              "      <td>64.928555</td>\n",
              "      <td>0.523063</td>\n",
              "      <td>0.519792</td>\n",
              "      <td>0.940141</td>\n",
              "      <td>0.669453</td>\n",
              "      <td>0.529285</td>\n",
              "    </tr>\n",
              "  </tbody>\n",
              "</table>\n",
              "</div>\n",
              "    <div class=\"colab-df-buttons\">\n",
              "\n",
              "  <div class=\"colab-df-container\">\n",
              "    <button class=\"colab-df-convert\" onclick=\"convertToInteractive('df-c7dcdb01-75d6-4262-8c15-b9b516803718')\"\n",
              "            title=\"Convert this dataframe to an interactive table.\"\n",
              "            style=\"display:none;\">\n",
              "\n",
              "  <svg xmlns=\"http://www.w3.org/2000/svg\" height=\"24px\" viewBox=\"0 -960 960 960\">\n",
              "    <path d=\"M120-120v-720h720v720H120Zm60-500h600v-160H180v160Zm220 220h160v-160H400v160Zm0 220h160v-160H400v160ZM180-400h160v-160H180v160Zm440 0h160v-160H620v160ZM180-180h160v-160H180v160Zm440 0h160v-160H620v160Z\"/>\n",
              "  </svg>\n",
              "    </button>\n",
              "\n",
              "  <style>\n",
              "    .colab-df-container {\n",
              "      display:flex;\n",
              "      gap: 12px;\n",
              "    }\n",
              "\n",
              "    .colab-df-convert {\n",
              "      background-color: #E8F0FE;\n",
              "      border: none;\n",
              "      border-radius: 50%;\n",
              "      cursor: pointer;\n",
              "      display: none;\n",
              "      fill: #1967D2;\n",
              "      height: 32px;\n",
              "      padding: 0 0 0 0;\n",
              "      width: 32px;\n",
              "    }\n",
              "\n",
              "    .colab-df-convert:hover {\n",
              "      background-color: #E2EBFA;\n",
              "      box-shadow: 0px 1px 2px rgba(60, 64, 67, 0.3), 0px 1px 3px 1px rgba(60, 64, 67, 0.15);\n",
              "      fill: #174EA6;\n",
              "    }\n",
              "\n",
              "    .colab-df-buttons div {\n",
              "      margin-bottom: 4px;\n",
              "    }\n",
              "\n",
              "    [theme=dark] .colab-df-convert {\n",
              "      background-color: #3B4455;\n",
              "      fill: #D2E3FC;\n",
              "    }\n",
              "\n",
              "    [theme=dark] .colab-df-convert:hover {\n",
              "      background-color: #434B5C;\n",
              "      box-shadow: 0px 1px 3px 1px rgba(0, 0, 0, 0.15);\n",
              "      filter: drop-shadow(0px 1px 2px rgba(0, 0, 0, 0.3));\n",
              "      fill: #FFFFFF;\n",
              "    }\n",
              "  </style>\n",
              "\n",
              "    <script>\n",
              "      const buttonEl =\n",
              "        document.querySelector('#df-c7dcdb01-75d6-4262-8c15-b9b516803718 button.colab-df-convert');\n",
              "      buttonEl.style.display =\n",
              "        google.colab.kernel.accessAllowed ? 'block' : 'none';\n",
              "\n",
              "      async function convertToInteractive(key) {\n",
              "        const element = document.querySelector('#df-c7dcdb01-75d6-4262-8c15-b9b516803718');\n",
              "        const dataTable =\n",
              "          await google.colab.kernel.invokeFunction('convertToInteractive',\n",
              "                                                    [key], {});\n",
              "        if (!dataTable) return;\n",
              "\n",
              "        const docLinkHtml = 'Like what you see? Visit the ' +\n",
              "          '<a target=\"_blank\" href=https://colab.research.google.com/notebooks/data_table.ipynb>data table notebook</a>'\n",
              "          + ' to learn more about interactive tables.';\n",
              "        element.innerHTML = '';\n",
              "        dataTable['output_type'] = 'display_data';\n",
              "        await google.colab.output.renderOutput(dataTable, element);\n",
              "        const docLink = document.createElement('div');\n",
              "        docLink.innerHTML = docLinkHtml;\n",
              "        element.appendChild(docLink);\n",
              "      }\n",
              "    </script>\n",
              "  </div>\n",
              "\n",
              "\n",
              "<div id=\"df-c6cf53d5-1be8-48b5-934b-08ae6fe606e9\">\n",
              "  <button class=\"colab-df-quickchart\" onclick=\"quickchart('df-c6cf53d5-1be8-48b5-934b-08ae6fe606e9')\"\n",
              "            title=\"Suggest charts.\"\n",
              "            style=\"display:none;\">\n",
              "\n",
              "<svg xmlns=\"http://www.w3.org/2000/svg\" height=\"24px\"viewBox=\"0 0 24 24\"\n",
              "     width=\"24px\">\n",
              "    <g>\n",
              "        <path d=\"M19 3H5c-1.1 0-2 .9-2 2v14c0 1.1.9 2 2 2h14c1.1 0 2-.9 2-2V5c0-1.1-.9-2-2-2zM9 17H7v-7h2v7zm4 0h-2V7h2v10zm4 0h-2v-4h2v4z\"/>\n",
              "    </g>\n",
              "</svg>\n",
              "  </button>\n",
              "\n",
              "<style>\n",
              "  .colab-df-quickchart {\n",
              "    background-color: #E8F0FE;\n",
              "    border: none;\n",
              "    border-radius: 50%;\n",
              "    cursor: pointer;\n",
              "    display: none;\n",
              "    fill: #1967D2;\n",
              "    height: 32px;\n",
              "    padding: 0 0 0 0;\n",
              "    width: 32px;\n",
              "  }\n",
              "\n",
              "  .colab-df-quickchart:hover {\n",
              "    background-color: #E2EBFA;\n",
              "    box-shadow: 0px 1px 2px rgba(60, 64, 67, 0.3), 0px 1px 3px 1px rgba(60, 64, 67, 0.15);\n",
              "    fill: #174EA6;\n",
              "  }\n",
              "\n",
              "  [theme=dark] .colab-df-quickchart {\n",
              "    background-color: #3B4455;\n",
              "    fill: #D2E3FC;\n",
              "  }\n",
              "\n",
              "  [theme=dark] .colab-df-quickchart:hover {\n",
              "    background-color: #434B5C;\n",
              "    box-shadow: 0px 1px 3px 1px rgba(0, 0, 0, 0.15);\n",
              "    filter: drop-shadow(0px 1px 2px rgba(0, 0, 0, 0.3));\n",
              "    fill: #FFFFFF;\n",
              "  }\n",
              "</style>\n",
              "\n",
              "  <script>\n",
              "    async function quickchart(key) {\n",
              "      const charts = await google.colab.kernel.invokeFunction(\n",
              "          'suggestCharts', [key], {});\n",
              "    }\n",
              "    (() => {\n",
              "      let quickchartButtonEl =\n",
              "        document.querySelector('#df-c6cf53d5-1be8-48b5-934b-08ae6fe606e9 button');\n",
              "      quickchartButtonEl.style.display =\n",
              "        google.colab.kernel.accessAllowed ? 'block' : 'none';\n",
              "    })();\n",
              "  </script>\n",
              "</div>\n",
              "    </div>\n",
              "  </div>\n"
            ]
          },
          "metadata": {},
          "execution_count": 11
        }
      ]
    },
    {
      "cell_type": "code",
      "source": [
        "from sklearn.model_selection import cross_val_score, KFold\n",
        "\n",
        "def kfold_cross_val_scores(classifiers, X, y, scoring='roc_auc', n_splits=5, random_state=42):\n",
        "    \"\"\"\n",
        "    Performs k-fold cross-validation for each classifier and returns their scores.\n",
        "\n",
        "    Parameters:\n",
        "    classifiers (list): List of classifiers as tuples (name, classifier_instance).\n",
        "    X (pd.DataFrame): The feature matrix.\n",
        "    y (pd.Series): The target variable.\n",
        "    scoring (str): Scikit-learn scoring method (default is 'roc_auc').\n",
        "    n_splits (int): The number of folds in k-fold cross-validation (default is 5).\n",
        "    random_state (int): Random state for reproducibility (default is 42).\n",
        "\n",
        "    Returns:\n",
        "    pd.DataFrame: A DataFrame containing the classifier names and cross-validation scores.\n",
        "    \"\"\"\n",
        "    kfold = KFold(n_splits=n_splits, random_state=random_state, shuffle=True)\n",
        "    scores = []\n",
        "\n",
        "    for name, classifier in classifiers:\n",
        "        cv_scores = cross_val_score(classifier, X, y, scoring=scoring, cv=kfold)\n",
        "        for score in cv_scores:\n",
        "            scores.append([name, score])\n",
        "\n",
        "    scores_df = pd.DataFrame(scores, columns=[\"Classifier\", \"Score\"])\n",
        "    return scores_df"
      ],
      "metadata": {
        "id": "28ov5v9UXwpz"
      },
      "execution_count": 12,
      "outputs": []
    },
    {
      "cell_type": "code",
      "source": [
        "import matplotlib.pyplot as plt\n",
        "import seaborn as sns\n",
        "random_state = 21\n",
        "classifiers = [\n",
        "    (\"Logistic Regression\", LogisticRegression(random_state=random_state)),\n",
        "    (\"Support Vector Machines\", SVC(random_state=random_state, probability=True)),\n",
        "    (\"Random Forest\", RandomForestClassifier(random_state=random_state)),\n",
        "    (\"Naive Bayes\", GaussianNB()),\n",
        "    (\"K-Nearest Neighbors\", KNeighborsClassifier()),\n",
        "    (\"XGBoost\", XGBClassifier(random_state=random_state, use_label_encoder=False, eval_metric=\"logloss\")),\n",
        "    (\"LightGBM\", LGBMClassifier(random_state=random_state))\n",
        "]\n",
        "def visualize_performance(classifiers, X, y, scoring='roc_auc', n_splits=5, random_state=42):\n",
        "    \"\"\"\n",
        "    Performs k-fold cross-validation and generates boxplots for the chosen scoring metric.\n",
        "\n",
        "    Parameters:\n",
        "    classifiers (list): List of classifiers as tuples (name, classifier_instance).\n",
        "    X (pd.DataFrame): The feature matrix.\n",
        "    y (pd.Series): The target variable.\n",
        "    scoring (str): Scikit-learn scoring method (default is 'roc_auc').\n",
        "    n_splits (int): The number of folds in k-fold cross-validation (default is 5).\n",
        "    random_state (int): Random state for reproducibility (default is 42).\n",
        "    \"\"\"\n",
        "\n",
        "    # Obtain the k-fold cross-validation scores\n",
        "    scores_df = kfold_cross_val_scores(classifiers, X, y, scoring=scoring, n_splits=n_splits, random_state=random_state)\n",
        "\n",
        "    # Create a boxplot for the chosen scoring metric\n",
        "    plt.figure(figsize=(14, 6))\n",
        "    sns.boxplot(x=\"Classifier\", y=\"Score\", data=scores_df, palette=\"Set2\")\n",
        "    plt.title(f\"Classifier {scoring.upper()} Comparison (k-Fold Cross-Validation)\")\n",
        "    plt.xticks(rotation=45)\n",
        "    plt.show()"
      ],
      "metadata": {
        "colab": {
          "base_uri": "https://localhost:8080/",
          "height": 0
        },
        "id": "bxLfO-jlYLu5",
        "outputId": "68a4ade4-be00-4c95-e758-410ba63030ec"
      },
      "execution_count": 13,
      "outputs": [
        {
          "output_type": "stream",
          "name": "stderr",
          "text": [
            "/usr/local/lib/python3.10/dist-packages/xgboost/sklearn.py:1395: UserWarning: `use_label_encoder` is deprecated in 1.7.0.\n",
            "  warnings.warn(\"`use_label_encoder` is deprecated in 1.7.0.\")\n"
          ]
        }
      ]
    },
    {
      "cell_type": "code",
      "source": [
        "from sklearn.preprocessing import LabelEncoder\n",
        "\n",
        "# Prepare the data\n",
        "X = preprocessed_data.drop([\"Date\", \"Target\"], axis=1)\n",
        "y = preprocessed_data[\"Target\"]\n",
        "\n",
        "# Encode the target variable\n",
        "encoder = LabelEncoder()\n",
        "y_encoded = encoder.fit_transform(y)\n",
        "\n",
        "# Visualize the performance\n",
        "visualize_performance(classifiers, X, y_encoded, scoring='roc_auc')"
      ],
      "metadata": {
        "colab": {
          "base_uri": "https://localhost:8080/",
          "height": 1203
        },
        "id": "5QJIhl7bYwW-",
        "outputId": "be423cf4-3083-4876-bcbb-88d6095d2729"
      },
      "execution_count": 14,
      "outputs": [
        {
          "output_type": "stream",
          "name": "stderr",
          "text": [
            "/usr/local/lib/python3.10/dist-packages/xgboost/sklearn.py:1395: UserWarning: `use_label_encoder` is deprecated in 1.7.0.\n",
            "  warnings.warn(\"`use_label_encoder` is deprecated in 1.7.0.\")\n",
            "/usr/local/lib/python3.10/dist-packages/xgboost/sklearn.py:1395: UserWarning: `use_label_encoder` is deprecated in 1.7.0.\n",
            "  warnings.warn(\"`use_label_encoder` is deprecated in 1.7.0.\")\n",
            "/usr/local/lib/python3.10/dist-packages/xgboost/sklearn.py:1395: UserWarning: `use_label_encoder` is deprecated in 1.7.0.\n",
            "  warnings.warn(\"`use_label_encoder` is deprecated in 1.7.0.\")\n",
            "/usr/local/lib/python3.10/dist-packages/xgboost/sklearn.py:1395: UserWarning: `use_label_encoder` is deprecated in 1.7.0.\n",
            "  warnings.warn(\"`use_label_encoder` is deprecated in 1.7.0.\")\n",
            "/usr/local/lib/python3.10/dist-packages/xgboost/sklearn.py:1395: UserWarning: `use_label_encoder` is deprecated in 1.7.0.\n",
            "  warnings.warn(\"`use_label_encoder` is deprecated in 1.7.0.\")\n"
          ]
        },
        {
          "output_type": "stream",
          "name": "stdout",
          "text": [
            "[LightGBM] [Warning] Found whitespace in feature_names, replace with underlines\n",
            "[LightGBM] [Info] Number of positive: 6869, number of negative: 6396\n",
            "[LightGBM] [Warning] Auto-choosing row-wise multi-threading, the overhead of testing was 0.000415 seconds.\n",
            "You can set `force_row_wise=true` to remove the overhead.\n",
            "And if memory is not enough, you can set `force_col_wise=true`.\n",
            "[LightGBM] [Info] Total Bins 1535\n",
            "[LightGBM] [Info] Number of data points in the train set: 13265, number of used features: 7\n",
            "[LightGBM] [Info] [binary:BoostFromScore]: pavg=0.517829 -> initscore=0.071346\n",
            "[LightGBM] [Info] Start training from score 0.071346\n",
            "[LightGBM] [Warning] Found whitespace in feature_names, replace with underlines\n",
            "[LightGBM] [Info] Number of positive: 6858, number of negative: 6407\n",
            "[LightGBM] [Warning] Auto-choosing row-wise multi-threading, the overhead of testing was 0.000395 seconds.\n",
            "You can set `force_row_wise=true` to remove the overhead.\n",
            "And if memory is not enough, you can set `force_col_wise=true`.\n",
            "[LightGBM] [Info] Total Bins 1535\n",
            "[LightGBM] [Info] Number of data points in the train set: 13265, number of used features: 7\n",
            "[LightGBM] [Info] [binary:BoostFromScore]: pavg=0.517000 -> initscore=0.068025\n",
            "[LightGBM] [Info] Start training from score 0.068025\n",
            "[LightGBM] [Warning] Found whitespace in feature_names, replace with underlines\n",
            "[LightGBM] [Info] Number of positive: 6826, number of negative: 6440\n",
            "[LightGBM] [Warning] Auto-choosing row-wise multi-threading, the overhead of testing was 0.000425 seconds.\n",
            "You can set `force_row_wise=true` to remove the overhead.\n",
            "And if memory is not enough, you can set `force_col_wise=true`.\n",
            "[LightGBM] [Info] Total Bins 1535\n",
            "[LightGBM] [Info] Number of data points in the train set: 13266, number of used features: 7\n",
            "[LightGBM] [Info] [binary:BoostFromScore]: pavg=0.514548 -> initscore=0.058210\n",
            "[LightGBM] [Info] Start training from score 0.058210\n",
            "[LightGBM] [Warning] Found whitespace in feature_names, replace with underlines\n",
            "[LightGBM] [Info] Number of positive: 6864, number of negative: 6402\n",
            "[LightGBM] [Warning] Auto-choosing row-wise multi-threading, the overhead of testing was 0.000836 seconds.\n",
            "You can set `force_row_wise=true` to remove the overhead.\n",
            "And if memory is not enough, you can set `force_col_wise=true`.\n",
            "[LightGBM] [Info] Total Bins 1535\n",
            "[LightGBM] [Info] Number of data points in the train set: 13266, number of used features: 7\n",
            "[LightGBM] [Info] [binary:BoostFromScore]: pavg=0.517413 -> initscore=0.069680\n",
            "[LightGBM] [Info] Start training from score 0.069680\n",
            "[LightGBM] [Warning] Found whitespace in feature_names, replace with underlines\n",
            "[LightGBM] [Info] Number of positive: 6875, number of negative: 6391\n",
            "[LightGBM] [Warning] Auto-choosing row-wise multi-threading, the overhead of testing was 0.000645 seconds.\n",
            "You can set `force_row_wise=true` to remove the overhead.\n",
            "And if memory is not enough, you can set `force_col_wise=true`.\n",
            "[LightGBM] [Info] Total Bins 1535\n",
            "[LightGBM] [Info] Number of data points in the train set: 13266, number of used features: 7\n",
            "[LightGBM] [Info] [binary:BoostFromScore]: pavg=0.518242 -> initscore=0.073001\n",
            "[LightGBM] [Info] Start training from score 0.073001\n"
          ]
        },
        {
          "output_type": "display_data",
          "data": {
            "text/plain": [
              "<Figure size 1400x600 with 1 Axes>"
            ],
            "image/png": "[encoded data removed]"
          },
          "metadata": {}
        }
      ]
    },
    {
      "cell_type": "code",
      "source": [
        "def encode_data(data):\n",
        "    # This function should implement your encoding logic\n",
        "    # For example, you can use LabelEncoder, OneHotEncoder, or any other suitable encoding method\n",
        "    # Here's a simple example using LabelEncoder:\n",
        "\n",
        "    from sklearn.preprocessing import LabelEncoder\n",
        "\n",
        "    le = LabelEncoder()\n",
        "    encoded_data = data.copy()\n",
        "\n",
        "    for col in encoded_data.columns:\n",
        "        if encoded_data[col].dtype == 'object':\n",
        "            encoded_data[col] = le.fit_transform(encoded_data[col])\n",
        "\n",
        "    return encoded_data"
      ],
      "metadata": {
        "id": "926ttB3LDlaA"
      },
      "execution_count": 15,
      "outputs": []
    },
    {
      "cell_type": "code",
      "source": [
        "from sklearn.preprocessing import StandardScaler\n",
        "\n",
        "def normalize_data(data):\n",
        "    # This function should implement your normalization logic\n",
        "    # For example, you can use StandardScaler, MinMaxScaler, or any other suitable method\n",
        "    # Here's an example using StandardScaler:\n",
        "\n",
        "    scaler = StandardScaler()\n",
        "    normalized_data = data.copy()\n",
        "\n",
        "    for col in normalized_data.columns:\n",
        "        if normalized_data[col].dtype != 'object' and col != \"Date\":\n",
        "            normalized_data[col] = scaler.fit_transform(normalized_data[[col]])\n",
        "\n",
        "    return normalized_data"
      ],
      "metadata": {
        "id": "Zs2cklyXDyIB"
      },
      "execution_count": 16,
      "outputs": []
    },
    {
      "cell_type": "code",
      "source": [
        "# Modify the predict_new_data function to use the encoding and normalization functions\n",
        "\n",
        "def predict_new_data(model, new_data):\n",
        "    # Encode categorical variables and normalize numerical variables\n",
        "    encoded_new_data = encode_data(new_data)\n",
        "    normalized_new_data = normalize_data(encoded_new_data)\n",
        "\n",
        "    # Get the feature names from the trained model\n",
        "    feature_names = X.columns.tolist()\n",
        "\n",
        "    # Remove columns that are not in the training data\n",
        "    for col in normalized_new_data.columns:\n",
        "        if col not in feature_names:\n",
        "            normalized_new_data.drop(columns=[col], inplace=True)\n",
        "\n",
        "    # Add missing columns from the training data and fill them with zeros\n",
        "    for col in feature_names:\n",
        "        if col not in normalized_new_data.columns:\n",
        "            normalized_new_data[col] = 0\n",
        "\n",
        "    # Ensure the columns are in the same order as the training data\n",
        "    normalized_new_data = normalized_new_data[feature_names]\n",
        "\n",
        "    # Make predictions\n",
        "    predictions = model.predict(normalized_new_data)\n",
        "\n",
        "    return predictions"
      ],
      "metadata": {
        "id": "E5EseB11D34K"
      },
      "execution_count": 17,
      "outputs": []
    },
    {
      "cell_type": "code",
      "source": [
        "# Train the best model on the entire dataset\n",
        "best_model = RandomForestClassifier(random_state=42)\n",
        "best_model.fit(X, y_encoded)"
      ],
      "metadata": {
        "colab": {
          "base_uri": "https://localhost:8080/",
          "height": 75
        },
        "id": "yHwvmJ4DEI9O",
        "outputId": "a4813908-caab-4364-bee0-1f92cec6abc6"
      },
      "execution_count": 18,
      "outputs": [
        {
          "output_type": "execute_result",
          "data": {
            "text/plain": [
              "RandomForestClassifier(random_state=42)"
            ],
            "text/html": [
              "<style>#sk-container-id-1 {color: black;background-color: white;}#sk-container-id-1 pre{padding: 0;}#sk-container-id-1 div.sk-toggleable {background-color: white;}#sk-container-id-1 label.sk-toggleable__label {cursor: pointer;display: block;width: 100%;margin-bottom: 0;padding: 0.3em;box-sizing: border-box;text-align: center;}#sk-container-id-1 label.sk-toggleable__label-arrow:before {content: \"▸\";float: left;margin-right: 0.25em;color: #696969;}#sk-container-id-1 label.sk-toggleable__label-arrow:hover:before {color: black;}#sk-container-id-1 div.sk-estimator:hover label.sk-toggleable__label-arrow:before {color: black;}#sk-container-id-1 div.sk-toggleable__content {max-height: 0;max-width: 0;overflow: hidden;text-align: left;background-color: #f0f8ff;}#sk-container-id-1 div.sk-toggleable__content pre {margin: 0.2em;color: black;border-radius: 0.25em;background-color: #f0f8ff;}#sk-container-id-1 input.sk-toggleable__control:checked~div.sk-toggleable__content {max-height: 200px;max-width: 100%;overflow: auto;}#sk-container-id-1 input.sk-toggleable__control:checked~label.sk-toggleable__label-arrow:before {content: \"▾\";}#sk-container-id-1 div.sk-estimator input.sk-toggleable__control:checked~label.sk-toggleable__label {background-color: #d4ebff;}#sk-container-id-1 div.sk-label input.sk-toggleable__control:checked~label.sk-toggleable__label {background-color: #d4ebff;}#sk-container-id-1 input.sk-hidden--visually {border: 0;clip: rect(1px 1px 1px 1px);clip: rect(1px, 1px, 1px, 1px);height: 1px;margin: -1px;overflow: hidden;padding: 0;position: absolute;width: 1px;}#sk-container-id-1 div.sk-estimator {font-family: monospace;background-color: #f0f8ff;border: 1px dotted black;border-radius: 0.25em;box-sizing: border-box;margin-bottom: 0.5em;}#sk-container-id-1 div.sk-estimator:hover {background-color: #d4ebff;}#sk-container-id-1 div.sk-parallel-item::after {content: \"\";width: 100%;border-bottom: 1px solid gray;flex-grow: 1;}#sk-container-id-1 div.sk-label:hover label.sk-toggleable__label {background-color: #d4ebff;}#sk-container-id-1 div.sk-serial::before {content: \"\";position: absolute;border-left: 1px solid gray;box-sizing: border-box;top: 0;bottom: 0;left: 50%;z-index: 0;}#sk-container-id-1 div.sk-serial {display: flex;flex-direction: column;align-items: center;background-color: white;padding-right: 0.2em;padding-left: 0.2em;position: relative;}#sk-container-id-1 div.sk-item {position: relative;z-index: 1;}#sk-container-id-1 div.sk-parallel {display: flex;align-items: stretch;justify-content: center;background-color: white;position: relative;}#sk-container-id-1 div.sk-item::before, #sk-container-id-1 div.sk-parallel-item::before {content: \"\";position: absolute;border-left: 1px solid gray;box-sizing: border-box;top: 0;bottom: 0;left: 50%;z-index: -1;}#sk-container-id-1 div.sk-parallel-item {display: flex;flex-direction: column;z-index: 1;position: relative;background-color: white;}#sk-container-id-1 div.sk-parallel-item:first-child::after {align-self: flex-end;width: 50%;}#sk-container-id-1 div.sk-parallel-item:last-child::after {align-self: flex-start;width: 50%;}#sk-container-id-1 div.sk-parallel-item:only-child::after {width: 0;}#sk-container-id-1 div.sk-dashed-wrapped {border: 1px dashed gray;margin: 0 0.4em 0.5em 0.4em;box-sizing: border-box;padding-bottom: 0.4em;background-color: white;}#sk-container-id-1 div.sk-label label {font-family: monospace;font-weight: bold;display: inline-block;line-height: 1.2em;}#sk-container-id-1 div.sk-label-container {text-align: center;}#sk-container-id-1 div.sk-container {/* jupyter's `normalize.less` sets `[hidden] { display: none; }` but bootstrap.min.css set `[hidden] { display: none !important; }` so we also need the `!important` here to be able to override the default hidden behavior on the sphinx rendered scikit-learn.org. See: https://github.com/scikit-learn/scikit-learn/issues/21755 */display: inline-block !important;position: relative;}#sk-container-id-1 div.sk-text-repr-fallback {display: none;}</style><div id=\"sk-container-id-1\" class=\"sk-top-container\"><div class=\"sk-text-repr-fallback\"><pre>RandomForestClassifier(random_state=42)</pre><b>In a Jupyter environment, please rerun this cell to show the HTML representation or trust the notebook. <br />On GitHub, the HTML representation is unable to render, please try loading this page with nbviewer.org.</b></div><div class=\"sk-container\" hidden><div class=\"sk-item\"><div class=\"sk-estimator sk-toggleable\"><input class=\"sk-toggleable__control sk-hidden--visually\" id=\"sk-estimator-id-1\" type=\"checkbox\" checked><label for=\"sk-estimator-id-1\" class=\"sk-toggleable__label sk-toggleable__label-arrow\">RandomForestClassifier</label><div class=\"sk-toggleable__content\"><pre>RandomForestClassifier(random_state=42)</pre></div></div></div></div></div>"
            ]
          },
          "metadata": {},
          "execution_count": 18
        }
      ]
    },
    {
      "cell_type": "code",
      "source": [
        "# Create a sample DataFrame with new data\n",
        "sample_data = {\n",
        "    \"Open\": [150.0, 152.0, 153.5],\n",
        "    \"High\": [153.0, 155.0, 156.0],\n",
        "    \"Low\": [149.0, 150.0, 151.0],\n",
        "    \"Close\": [151.0, 154.0, 152.0],\n",
        "    \"Volume\": [2000000, 2500000, 1800000],\n",
        "    \"Dividends\": [0.0, 0.0, 0.0],\n",
        "    \"Stock Splits\": [0, 0, 0]\n",
        "}\n",
        "\n",
        "new_data = pd.DataFrame(sample_data)\n",
        "\n",
        "# Make predictions using the trained best model\n",
        "predictions = predict_new_data(best_model, new_data)\n",
        "\n",
        "# Print the predictions\n",
        "print(predictions)"
      ],
      "metadata": {
        "colab": {
          "base_uri": "https://localhost:8080/",
          "height": 0
        },
        "id": "h4tCiczPEOES",
        "outputId": "57b94060-1651-4275-99c3-d7a5b6ad9fcf"
      },
      "execution_count": 19,
      "outputs": [
        {
          "output_type": "stream",
          "name": "stdout",
          "text": [
            "[1 0 0]\n"
          ]
        }
      ]
    },
    {
      "cell_type": "code",
      "source": [
        "import numpy as np\n",
        "from sklearn.model_selection import GridSearchCV\n",
        "\n",
        "def optimize_hyperparameters(model, param_grid, X, y, cv=5, scoring='roc_auc'):\n",
        "    \"\"\"\n",
        "    This function performs grid search to optimize hyperparameters for a given model.\n",
        "\n",
        "    :param model: The model for which to optimize hyperparameters\n",
        "    :param param_grid: A dictionary containing the hyperparameters and their possible values\n",
        "    :param X: The feature matrix\n",
        "    :param y: The target variable\n",
        "    :param cv: The number of cross-validation folds (default: 5)\n",
        "    :param scoring: The scoring metric used for optimization (default: 'roc_auc')\n",
        "    :return: The best model found by grid search\n",
        "    \"\"\"\n",
        "    grid_search = GridSearchCV(model, param_grid, scoring=scoring, cv=cv, n_jobs=-1, verbose=1)\n",
        "    grid_search.fit(X, y)\n",
        "\n",
        "    print(f\"Best {scoring} score: {grid_search.best_score_}\")\n",
        "    print(\"Best hyperparameters:\")\n",
        "    for key, value in grid_search.best_params_.items():\n",
        "        print(f\"  {key}: {value}\")\n",
        "\n",
        "    return grid_search.best_estimator_"
      ],
      "metadata": {
        "id": "fQYyzsgoEgDo"
      },
      "execution_count": 20,
      "outputs": []
    },
    {
      "cell_type": "code",
      "source": [
        "# Define the parameter grid\n",
        "param_grid = {\n",
        "    'n_estimators': [10, 50, 100, 200],\n",
        "    'max_depth': [None, 10, 20, 30],\n",
        "    'min_samples_split': [2, 5, 10],\n",
        "    'min_samples_leaf': [1, 2, 4],\n",
        "    'max_features': ['auto', 'sqrt', 'log2'],\n",
        "    'bootstrap': [True, False]\n",
        "}\n",
        "\n",
        "# Optimize the hyperparameters for the best model\n",
        "# best_model_optimized = optimize_hyperparameters(best_model, param_grid, X, y)"
      ],
      "metadata": {
        "id": "UbS09daiEpS-"
      },
      "execution_count": 21,
      "outputs": []
    },
    {
      "cell_type": "code",
      "source": [
        "def retrain_and_compare_baseline_optimized(best_model, best_model_optimized, X, y, test_size=0.25, random_state=42):\n",
        "    # Split the data into training and testing sets\n",
        "    X_train, X_test, y_train, y_test = train_test_split(X, y, test_size=test_size, random_state=random_state)\n",
        "\n",
        "    # Fit the baseline model\n",
        "    best_model.fit(X_train, y_train)\n",
        "\n",
        "    # Make predictions with the baseline model\n",
        "    y_pred_baseline = best_model.predict(X_test)\n",
        "\n",
        "    # Compute performance metrics for the baseline model\n",
        "    accuracy_baseline = accuracy_score(y_test, y_pred_baseline)\n",
        "    precision_baseline = precision_score(y_test, y_pred_baseline)\n",
        "    recall_baseline = recall_score(y_test, y_pred_baseline)\n",
        "    f1_baseline = f1_score(y_test, y_pred_baseline)\n",
        "    roc_auc_baseline = roc_auc_score(y_test, y_pred_baseline)\n",
        "\n",
        "    # Fit the optimized model\n",
        "    best_model_optimized.fit(X_train, y_train)\n",
        "\n",
        "    # Make predictions with the optimized model\n",
        "    y_pred_optimized = best_model_optimized.predict(X_test)\n",
        "\n",
        "    # Compute performance metrics for the optimized model\n",
        "    accuracy_optimized = accuracy_score(y_test, y_pred_optimized)\n",
        "    precision_optimized = precision_score(y_test, y_pred_optimized)\n",
        "    recall_optimized = recall_score(y_test, y_pred_optimized)\n",
        "    f1_optimized = f1_score(y_test, y_pred_optimized)\n",
        "    roc_auc_optimized = roc_auc_score(y_test, y_pred_optimized)\n",
        "\n",
        "    # Create a table to compare the baseline and optimized model performance\n",
        "    comparison_table = pd.DataFrame(\n",
        "        {\n",
        "            'Model': ['Baseline', 'Optimized'],\n",
        "            'Accuracy': [accuracy_baseline, accuracy_optimized],\n",
        "            'Precision': [precision_baseline, precision_optimized],\n",
        "            'Recall': [recall_baseline, recall_optimized],\n",
        "            'F1 Score': [f1_baseline, f1_optimized],\n",
        "            'ROC AUC': [roc_auc_baseline, roc_auc_optimized]\n",
        "        }\n",
        "    )\n",
        "\n",
        "    return comparison_table\n",
        "\n",
        "# Train the best model with the best parameters and compare the performance\n",
        "#comparison_table = retrain_and_compare_baseline_optimized(best_model, best_model_optimized, X, y_encoded)\n",
        "#print(comparison_table)"
      ],
      "metadata": {
        "id": "s-C5OQS1FND0"
      },
      "execution_count": 22,
      "outputs": []
    },
    {
      "cell_type": "markdown",
      "source": [
        "# EDA"
      ],
      "metadata": {
        "id": "d0T583gLRzNu"
      }
    },
    {
      "cell_type": "code",
      "source": [
        "preprocessed_data.info()"
      ],
      "metadata": {
        "colab": {
          "base_uri": "https://localhost:8080/",
          "height": 0
        },
        "id": "6YMIhneRP6Q8",
        "outputId": "5f5415f4-f82f-463c-a362-c2a17ad05790"
      },
      "execution_count": 23,
      "outputs": [
        {
          "output_type": "stream",
          "name": "stdout",
          "text": [
            "<class 'pandas.core.frame.DataFrame'>\n",
            "RangeIndex: 16582 entries, 1 to 16582\n",
            "Data columns (total 9 columns):\n",
            " #   Column     Non-Null Count  Dtype         \n",
            "---  ------     --------------  -----         \n",
            " 0   Date       16582 non-null  datetime64[ns]\n",
            " 1   Adj Close  16582 non-null  float64       \n",
            " 2   Close      16582 non-null  float64       \n",
            " 3   High       16582 non-null  float64       \n",
            " 4   Low        16582 non-null  float64       \n",
            " 5   Open       16582 non-null  float64       \n",
            " 6   Ticker     16582 non-null  int64         \n",
            " 7   Volume     16582 non-null  float64       \n",
            " 8   Target     16582 non-null  int64         \n",
            "dtypes: datetime64[ns](1), float64(6), int64(2)\n",
            "memory usage: 1.1 MB\n"
          ]
        }
      ]
    },
    {
      "cell_type": "code",
      "source": [
        "# no null data"
      ],
      "metadata": {
        "id": "I6shnGeBTCmf"
      },
      "execution_count": 24,
      "outputs": []
    },
    {
      "cell_type": "code",
      "source": [
        "preprocessed_data['Target'].value_counts()\n",
        "# Equally distributed data"
      ],
      "metadata": {
        "colab": {
          "base_uri": "https://localhost:8080/",
          "height": 0
        },
        "id": "KmX7XDlYT4RI",
        "outputId": "c29895e0-d9bd-4793-9051-fb8a6cd75f14"
      },
      "execution_count": 25,
      "outputs": [
        {
          "output_type": "execute_result",
          "data": {
            "text/plain": [
              "1    8573\n",
              "0    8009\n",
              "Name: Target, dtype: int64"
            ]
          },
          "metadata": {},
          "execution_count": 25
        }
      ]
    },
    {
      "cell_type": "code",
      "source": [
        "preprocessed_data.corrwith(preprocessed_data[\"Target\"])"
      ],
      "metadata": {
        "colab": {
          "base_uri": "https://localhost:8080/",
          "height": 0
        },
        "id": "NPU3bU8MTgh4",
        "outputId": "59c1cd12-d726-4a46-ab2b-cf2855d0c738"
      },
      "execution_count": 26,
      "outputs": [
        {
          "output_type": "stream",
          "name": "stderr",
          "text": [
            "<ipython-input-26-c7626a089857>:1: FutureWarning: The default value of numeric_only in DataFrame.corrwith is deprecated. In a future version, it will default to False. Select only valid columns or specify the value of numeric_only to silence this warning.\n",
            "  preprocessed_data.corrwith(preprocessed_data[\"Target\"])\n"
          ]
        },
        {
          "output_type": "execute_result",
          "data": {
            "text/plain": [
              "Adj Close   -0.003057\n",
              "Close       -0.002946\n",
              "High        -0.005431\n",
              "Low         -0.005052\n",
              "Open        -0.008016\n",
              "Ticker      -0.006781\n",
              "Volume      -0.011333\n",
              "Target       1.000000\n",
              "dtype: float64"
            ]
          },
          "metadata": {},
          "execution_count": 26
        }
      ]
    },
    {
      "cell_type": "code",
      "source": [
        "preprocessed_data = preprocessed_data.select_dtypes(include = ['float64', 'int64'])\n",
        "preprocessed_data.head()"
      ],
      "metadata": {
        "colab": {
          "base_uri": "https://localhost:8080/",
          "height": 206
        },
        "id": "GVuQWBT9VTWl",
        "outputId": "f946fbdd-070a-4f3e-a90b-ce163de5e70c"
      },
      "execution_count": 27,
      "outputs": [
        {
          "output_type": "execute_result",
          "data": {
            "text/plain": [
              "   Adj Close     Close      High       Low      Open  Ticker    Volume  Target\n",
              "1  -0.479333 -0.476202 -0.476400 -0.476456 -0.476747       3 -0.239786       1\n",
              "2  -0.479190 -0.476006 -0.476198 -0.476019 -0.476209       3 -0.337784       1\n",
              "3  -0.478669 -0.475297 -0.475368 -0.475771 -0.475932       3 -0.213203       1\n",
              "4  -0.478735 -0.475386 -0.475707 -0.475384 -0.475460       3 -0.298662       0\n",
              "5  -0.478824 -0.475509 -0.475312 -0.475194 -0.474849       3 -0.307615       0"
            ],
            "text/html": [
              "\n",
              "  <div id=\"df-32ce8a9c-0512-4622-a82f-ffb3169d2b58\" class=\"colab-df-container\">\n",
              "    <div>\n",
              "<style scoped>\n",
              "    .dataframe tbody tr th:only-of-type {\n",
              "        vertical-align: middle;\n",
              "    }\n",
              "\n",
              "    .dataframe tbody tr th {\n",
              "        vertical-align: top;\n",
              "    }\n",
              "\n",
              "    .dataframe thead th {\n",
              "        text-align: right;\n",
              "    }\n",
              "</style>\n",
              "<table border=\"1\" class=\"dataframe\">\n",
              "  <thead>\n",
              "    <tr style=\"text-align: right;\">\n",
              "      <th></th>\n",
              "      <th>Adj Close</th>\n",
              "      <th>Close</th>\n",
              "      <th>High</th>\n",
              "      <th>Low</th>\n",
              "      <th>Open</th>\n",
              "      <th>Ticker</th>\n",
              "      <th>Volume</th>\n",
              "      <th>Target</th>\n",
              "    </tr>\n",
              "  </thead>\n",
              "  <tbody>\n",
              "    <tr>\n",
              "      <th>1</th>\n",
              "      <td>-0.479333</td>\n",
              "      <td>-0.476202</td>\n",
              "      <td>-0.476400</td>\n",
              "      <td>-0.476456</td>\n",
              "      <td>-0.476747</td>\n",
              "      <td>3</td>\n",
              "      <td>-0.239786</td>\n",
              "      <td>1</td>\n",
              "    </tr>\n",
              "    <tr>\n",
              "      <th>2</th>\n",
              "      <td>-0.479190</td>\n",
              "      <td>-0.476006</td>\n",
              "      <td>-0.476198</td>\n",
              "      <td>-0.476019</td>\n",
              "      <td>-0.476209</td>\n",
              "      <td>3</td>\n",
              "      <td>-0.337784</td>\n",
              "      <td>1</td>\n",
              "    </tr>\n",
              "    <tr>\n",
              "      <th>3</th>\n",
              "      <td>-0.478669</td>\n",
              "      <td>-0.475297</td>\n",
              "      <td>-0.475368</td>\n",
              "      <td>-0.475771</td>\n",
              "      <td>-0.475932</td>\n",
              "      <td>3</td>\n",
              "      <td>-0.213203</td>\n",
              "      <td>1</td>\n",
              "    </tr>\n",
              "    <tr>\n",
              "      <th>4</th>\n",
              "      <td>-0.478735</td>\n",
              "      <td>-0.475386</td>\n",
              "      <td>-0.475707</td>\n",
              "      <td>-0.475384</td>\n",
              "      <td>-0.475460</td>\n",
              "      <td>3</td>\n",
              "      <td>-0.298662</td>\n",
              "      <td>0</td>\n",
              "    </tr>\n",
              "    <tr>\n",
              "      <th>5</th>\n",
              "      <td>-0.478824</td>\n",
              "      <td>-0.475509</td>\n",
              "      <td>-0.475312</td>\n",
              "      <td>-0.475194</td>\n",
              "      <td>-0.474849</td>\n",
              "      <td>3</td>\n",
              "      <td>-0.307615</td>\n",
              "      <td>0</td>\n",
              "    </tr>\n",
              "  </tbody>\n",
              "</table>\n",
              "</div>\n",
              "    <div class=\"colab-df-buttons\">\n",
              "\n",
              "  <div class=\"colab-df-container\">\n",
              "    <button class=\"colab-df-convert\" onclick=\"convertToInteractive('df-32ce8a9c-0512-4622-a82f-ffb3169d2b58')\"\n",
              "            title=\"Convert this dataframe to an interactive table.\"\n",
              "            style=\"display:none;\">\n",
              "\n",
              "  <svg xmlns=\"http://www.w3.org/2000/svg\" height=\"24px\" viewBox=\"0 -960 960 960\">\n",
              "    <path d=\"M120-120v-720h720v720H120Zm60-500h600v-160H180v160Zm220 220h160v-160H400v160Zm0 220h160v-160H400v160ZM180-400h160v-160H180v160Zm440 0h160v-160H620v160ZM180-180h160v-160H180v160Zm440 0h160v-160H620v160Z\"/>\n",
              "  </svg>\n",
              "    </button>\n",
              "\n",
              "  <style>\n",
              "    .colab-df-container {\n",
              "      display:flex;\n",
              "      gap: 12px;\n",
              "    }\n",
              "\n",
              "    .colab-df-convert {\n",
              "      background-color: #E8F0FE;\n",
              "      border: none;\n",
              "      border-radius: 50%;\n",
              "      cursor: pointer;\n",
              "      display: none;\n",
              "      fill: #1967D2;\n",
              "      height: 32px;\n",
              "      padding: 0 0 0 0;\n",
              "      width: 32px;\n",
              "    }\n",
              "\n",
              "    .colab-df-convert:hover {\n",
              "      background-color: #E2EBFA;\n",
              "      box-shadow: 0px 1px 2px rgba(60, 64, 67, 0.3), 0px 1px 3px 1px rgba(60, 64, 67, 0.15);\n",
              "      fill: #174EA6;\n",
              "    }\n",
              "\n",
              "    .colab-df-buttons div {\n",
              "      margin-bottom: 4px;\n",
              "    }\n",
              "\n",
              "    [theme=dark] .colab-df-convert {\n",
              "      background-color: #3B4455;\n",
              "      fill: #D2E3FC;\n",
              "    }\n",
              "\n",
              "    [theme=dark] .colab-df-convert:hover {\n",
              "      background-color: #434B5C;\n",
              "      box-shadow: 0px 1px 3px 1px rgba(0, 0, 0, 0.15);\n",
              "      filter: drop-shadow(0px 1px 2px rgba(0, 0, 0, 0.3));\n",
              "      fill: #FFFFFF;\n",
              "    }\n",
              "  </style>\n",
              "\n",
              "    <script>\n",
              "      const buttonEl =\n",
              "        document.querySelector('#df-32ce8a9c-0512-4622-a82f-ffb3169d2b58 button.colab-df-convert');\n",
              "      buttonEl.style.display =\n",
              "        google.colab.kernel.accessAllowed ? 'block' : 'none';\n",
              "\n",
              "      async function convertToInteractive(key) {\n",
              "        const element = document.querySelector('#df-32ce8a9c-0512-4622-a82f-ffb3169d2b58');\n",
              "        const dataTable =\n",
              "          await google.colab.kernel.invokeFunction('convertToInteractive',\n",
              "                                                    [key], {});\n",
              "        if (!dataTable) return;\n",
              "\n",
              "        const docLinkHtml = 'Like what you see? Visit the ' +\n",
              "          '<a target=\"_blank\" href=https://colab.research.google.com/notebooks/data_table.ipynb>data table notebook</a>'\n",
              "          + ' to learn more about interactive tables.';\n",
              "        element.innerHTML = '';\n",
              "        dataTable['output_type'] = 'display_data';\n",
              "        await google.colab.output.renderOutput(dataTable, element);\n",
              "        const docLink = document.createElement('div');\n",
              "        docLink.innerHTML = docLinkHtml;\n",
              "        element.appendChild(docLink);\n",
              "      }\n",
              "    </script>\n",
              "  </div>\n",
              "\n",
              "\n",
              "<div id=\"df-69b0fc24-e6b7-4e7f-8903-b500e8857f20\">\n",
              "  <button class=\"colab-df-quickchart\" onclick=\"quickchart('df-69b0fc24-e6b7-4e7f-8903-b500e8857f20')\"\n",
              "            title=\"Suggest charts.\"\n",
              "            style=\"display:none;\">\n",
              "\n",
              "<svg xmlns=\"http://www.w3.org/2000/svg\" height=\"24px\"viewBox=\"0 0 24 24\"\n",
              "     width=\"24px\">\n",
              "    <g>\n",
              "        <path d=\"M19 3H5c-1.1 0-2 .9-2 2v14c0 1.1.9 2 2 2h14c1.1 0 2-.9 2-2V5c0-1.1-.9-2-2-2zM9 17H7v-7h2v7zm4 0h-2V7h2v10zm4 0h-2v-4h2v4z\"/>\n",
              "    </g>\n",
              "</svg>\n",
              "  </button>\n",
              "\n",
              "<style>\n",
              "  .colab-df-quickchart {\n",
              "    background-color: #E8F0FE;\n",
              "    border: none;\n",
              "    border-radius: 50%;\n",
              "    cursor: pointer;\n",
              "    display: none;\n",
              "    fill: #1967D2;\n",
              "    height: 32px;\n",
              "    padding: 0 0 0 0;\n",
              "    width: 32px;\n",
              "  }\n",
              "\n",
              "  .colab-df-quickchart:hover {\n",
              "    background-color: #E2EBFA;\n",
              "    box-shadow: 0px 1px 2px rgba(60, 64, 67, 0.3), 0px 1px 3px 1px rgba(60, 64, 67, 0.15);\n",
              "    fill: #174EA6;\n",
              "  }\n",
              "\n",
              "  [theme=dark] .colab-df-quickchart {\n",
              "    background-color: #3B4455;\n",
              "    fill: #D2E3FC;\n",
              "  }\n",
              "\n",
              "  [theme=dark] .colab-df-quickchart:hover {\n",
              "    background-color: #434B5C;\n",
              "    box-shadow: 0px 1px 3px 1px rgba(0, 0, 0, 0.15);\n",
              "    filter: drop-shadow(0px 1px 2px rgba(0, 0, 0, 0.3));\n",
              "    fill: #FFFFFF;\n",
              "  }\n",
              "</style>\n",
              "\n",
              "  <script>\n",
              "    async function quickchart(key) {\n",
              "      const charts = await google.colab.kernel.invokeFunction(\n",
              "          'suggestCharts', [key], {});\n",
              "    }\n",
              "    (() => {\n",
              "      let quickchartButtonEl =\n",
              "        document.querySelector('#df-69b0fc24-e6b7-4e7f-8903-b500e8857f20 button');\n",
              "      quickchartButtonEl.style.display =\n",
              "        google.colab.kernel.accessAllowed ? 'block' : 'none';\n",
              "    })();\n",
              "  </script>\n",
              "</div>\n",
              "    </div>\n",
              "  </div>\n"
            ]
          },
          "metadata": {},
          "execution_count": 27
        }
      ]
    },
    {
      "cell_type": "code",
      "source": [
        "preprocessed_data.hist(figsize=(16, 20), bins=50, xlabelsize=8, ylabelsize=8); # ; avoid having the matplotlib verbose informations"
      ],
      "metadata": {
        "colab": {
          "base_uri": "https://localhost:8080/",
          "height": 1000
        },
        "id": "oOyGAd2GVLor",
        "outputId": "6fe34f78-7d87-4105-8a93-a0f3d7e8c02e"
      },
      "execution_count": 28,
      "outputs": [
        {
          "output_type": "display_data",
          "data": {
            "text/plain": [
              "<Figure size 1600x2000 with 9 Axes>"
            ],
            "image/png": "[encoded data removed]"
          },
          "metadata": {}
        }
      ]
    },
    {
      "cell_type": "code",
      "source": [
        "# Adj close, close, high, low, volume all are similar\n",
        "preprocessed_data.corrwith(preprocessed_data[\"Target\"])"
      ],
      "metadata": {
        "colab": {
          "base_uri": "https://localhost:8080/",
          "height": 0
        },
        "id": "BIk18rPGZzTc",
        "outputId": "323b1d3c-82da-4d4f-c0ca-d8335ad5615d"
      },
      "execution_count": 29,
      "outputs": [
        {
          "output_type": "execute_result",
          "data": {
            "text/plain": [
              "Adj Close   -0.003057\n",
              "Close       -0.002946\n",
              "High        -0.005431\n",
              "Low         -0.005052\n",
              "Open        -0.008016\n",
              "Ticker      -0.006781\n",
              "Volume      -0.011333\n",
              "Target       1.000000\n",
              "dtype: float64"
            ]
          },
          "metadata": {},
          "execution_count": 29
        }
      ]
    },
    {
      "cell_type": "code",
      "source": [
        "# Create a heatmap of the correlation between stock prices\n",
        "corr = preprocessed_data[['Open', 'High', 'Low', 'Close', 'Adj Close']].corr()\n",
        "plt.figure(figsize=(4,4))\n",
        "sns.heatmap(corr, annot=True, cmap='coolwarm')\n",
        "plt.title('Correlation Between Stock Prices')\n",
        "plt.show()"
      ],
      "metadata": {
        "colab": {
          "base_uri": "https://localhost:8080/",
          "height": 441
        },
        "id": "UTp4-gVGgk92",
        "outputId": "1b1fc7a1-9ec6-4b42-f37d-a321db991875"
      },
      "execution_count": 30,
      "outputs": [
        {
          "output_type": "display_data",
          "data": {
            "text/plain": [
              "<Figure size 400x400 with 2 Axes>"
            ],
            "image/png": "[encoded data removed]"
          },
          "metadata": {}
        }
      ]
    },
    {
      "cell_type": "code",
      "source": [
        "# looking at heat map AdjClose is not related to others and close and open less related, high and low are less related\n",
        "# since the p&L are done at end of the day. let us ignor ehigh and low"
      ],
      "metadata": {
        "id": "APGMMgdfhEt4"
      },
      "execution_count": 31,
      "outputs": []
    },
    {
      "cell_type": "code",
      "source": [
        "# Remove irrelevant columns\n",
        "preprocessed_data.drop(['High', 'Low'], axis=1, inplace=True)"
      ],
      "metadata": {
        "id": "yC70cH7Accki"
      },
      "execution_count": 32,
      "outputs": []
    },
    {
      "cell_type": "code",
      "source": [
        "preprocessed_data.info()"
      ],
      "metadata": {
        "colab": {
          "base_uri": "https://localhost:8080/",
          "height": 0
        },
        "id": "4M3tWOU6ejSI",
        "outputId": "ad4b3bc5-adde-477c-8688-9e0522801397"
      },
      "execution_count": 33,
      "outputs": [
        {
          "output_type": "stream",
          "name": "stdout",
          "text": [
            "<class 'pandas.core.frame.DataFrame'>\n",
            "RangeIndex: 16582 entries, 1 to 16582\n",
            "Data columns (total 6 columns):\n",
            " #   Column     Non-Null Count  Dtype  \n",
            "---  ------     --------------  -----  \n",
            " 0   Adj Close  16582 non-null  float64\n",
            " 1   Close      16582 non-null  float64\n",
            " 2   Open       16582 non-null  float64\n",
            " 3   Ticker     16582 non-null  int64  \n",
            " 4   Volume     16582 non-null  float64\n",
            " 5   Target     16582 non-null  int64  \n",
            "dtypes: float64(4), int64(2)\n",
            "memory usage: 777.4 KB\n"
          ]
        }
      ]
    },
    {
      "cell_type": "code",
      "source": [
        "performance_table = evaluate_classifiers(preprocessed_data, exclude_columns=[\"Date\"])\n",
        "performance_table"
      ],
      "metadata": {
        "colab": {
          "base_uri": "https://localhost:8080/",
          "height": 412
        },
        "id": "Bhh7dgRcdSX9",
        "outputId": "8cdee15f-4f68-489c-abf9-df6aaf05b9b1"
      },
      "execution_count": 34,
      "outputs": [
        {
          "output_type": "stream",
          "name": "stdout",
          "text": [
            "[LightGBM] [Warning] Found whitespace in feature_names, replace with underlines\n",
            "[LightGBM] [Info] Number of positive: 6869, number of negative: 6396\n",
            "[LightGBM] [Warning] Auto-choosing col-wise multi-threading, the overhead of testing was 0.000929 seconds.\n",
            "You can set `force_col_wise=true` to remove the overhead.\n",
            "[LightGBM] [Info] Total Bins 1025\n",
            "[LightGBM] [Info] Number of data points in the train set: 13265, number of used features: 5\n",
            "[LightGBM] [Info] [binary:BoostFromScore]: pavg=0.517829 -> initscore=0.071346\n",
            "[LightGBM] [Info] Start training from score 0.071346\n"
          ]
        },
        {
          "output_type": "execute_result",
          "data": {
            "text/plain": [
              "               Classifier  Training Time  Accuracy  Precision    Recall  \\\n",
              "0                 XGBoost       1.391182  0.722038   0.713895  0.765845   \n",
              "1           Random Forest       6.555505  0.684052   0.690698  0.697183   \n",
              "2                LightGBM       0.191967  0.672897   0.661788  0.742958   \n",
              "3           Decision Tree       0.325514  0.646970   0.655575  0.659038   \n",
              "4     Logistic Regression       0.060439  0.582756   0.556101  0.930751   \n",
              "5     K-Nearest Neighbors       0.011547  0.564968   0.572621  0.603873   \n",
              "6  Support Vector Machine      51.429761  0.523666   0.518983  0.994718   \n",
              "\n",
              "   F1 Score   ROC AUC  \n",
              "0  0.738958  0.786642  \n",
              "1  0.693925  0.748045  \n",
              "2  0.700028  0.747845  \n",
              "3  0.657302  0.646630  \n",
              "4  0.696225  0.642260  \n",
              "5  0.587832  0.594978  \n",
              "6  0.682093  0.537228  "
            ],
            "text/html": [
              "\n",
              "  <div id=\"df-a1886af6-cb00-49b4-b035-5ba471daf440\" class=\"colab-df-container\">\n",
              "    <div>\n",
              "<style scoped>\n",
              "    .dataframe tbody tr th:only-of-type {\n",
              "        vertical-align: middle;\n",
              "    }\n",
              "\n",
              "    .dataframe tbody tr th {\n",
              "        vertical-align: top;\n",
              "    }\n",
              "\n",
              "    .dataframe thead th {\n",
              "        text-align: right;\n",
              "    }\n",
              "</style>\n",
              "<table border=\"1\" class=\"dataframe\">\n",
              "  <thead>\n",
              "    <tr style=\"text-align: right;\">\n",
              "      <th></th>\n",
              "      <th>Classifier</th>\n",
              "      <th>Training Time</th>\n",
              "      <th>Accuracy</th>\n",
              "      <th>Precision</th>\n",
              "      <th>Recall</th>\n",
              "      <th>F1 Score</th>\n",
              "      <th>ROC AUC</th>\n",
              "    </tr>\n",
              "  </thead>\n",
              "  <tbody>\n",
              "    <tr>\n",
              "      <th>0</th>\n",
              "      <td>XGBoost</td>\n",
              "      <td>1.391182</td>\n",
              "      <td>0.722038</td>\n",
              "      <td>0.713895</td>\n",
              "      <td>0.765845</td>\n",
              "      <td>0.738958</td>\n",
              "      <td>0.786642</td>\n",
              "    </tr>\n",
              "    <tr>\n",
              "      <th>1</th>\n",
              "      <td>Random Forest</td>\n",
              "      <td>6.555505</td>\n",
              "      <td>0.684052</td>\n",
              "      <td>0.690698</td>\n",
              "      <td>0.697183</td>\n",
              "      <td>0.693925</td>\n",
              "      <td>0.748045</td>\n",
              "    </tr>\n",
              "    <tr>\n",
              "      <th>2</th>\n",
              "      <td>LightGBM</td>\n",
              "      <td>0.191967</td>\n",
              "      <td>0.672897</td>\n",
              "      <td>0.661788</td>\n",
              "      <td>0.742958</td>\n",
              "      <td>0.700028</td>\n",
              "      <td>0.747845</td>\n",
              "    </tr>\n",
              "    <tr>\n",
              "      <th>3</th>\n",
              "      <td>Decision Tree</td>\n",
              "      <td>0.325514</td>\n",
              "      <td>0.646970</td>\n",
              "      <td>0.655575</td>\n",
              "      <td>0.659038</td>\n",
              "      <td>0.657302</td>\n",
              "      <td>0.646630</td>\n",
              "    </tr>\n",
              "    <tr>\n",
              "      <th>4</th>\n",
              "      <td>Logistic Regression</td>\n",
              "      <td>0.060439</td>\n",
              "      <td>0.582756</td>\n",
              "      <td>0.556101</td>\n",
              "      <td>0.930751</td>\n",
              "      <td>0.696225</td>\n",
              "      <td>0.642260</td>\n",
              "    </tr>\n",
              "    <tr>\n",
              "      <th>5</th>\n",
              "      <td>K-Nearest Neighbors</td>\n",
              "      <td>0.011547</td>\n",
              "      <td>0.564968</td>\n",
              "      <td>0.572621</td>\n",
              "      <td>0.603873</td>\n",
              "      <td>0.587832</td>\n",
              "      <td>0.594978</td>\n",
              "    </tr>\n",
              "    <tr>\n",
              "      <th>6</th>\n",
              "      <td>Support Vector Machine</td>\n",
              "      <td>51.429761</td>\n",
              "      <td>0.523666</td>\n",
              "      <td>0.518983</td>\n",
              "      <td>0.994718</td>\n",
              "      <td>0.682093</td>\n",
              "      <td>0.537228</td>\n",
              "    </tr>\n",
              "  </tbody>\n",
              "</table>\n",
              "</div>\n",
              "    <div class=\"colab-df-buttons\">\n",
              "\n",
              "  <div class=\"colab-df-container\">\n",
              "    <button class=\"colab-df-convert\" onclick=\"convertToInteractive('df-a1886af6-cb00-49b4-b035-5ba471daf440')\"\n",
              "            title=\"Convert this dataframe to an interactive table.\"\n",
              "            style=\"display:none;\">\n",
              "\n",
              "  <svg xmlns=\"http://www.w3.org/2000/svg\" height=\"24px\" viewBox=\"0 -960 960 960\">\n",
              "    <path d=\"M120-120v-720h720v720H120Zm60-500h600v-160H180v160Zm220 220h160v-160H400v160Zm0 220h160v-160H400v160ZM180-400h160v-160H180v160Zm440 0h160v-160H620v160ZM180-180h160v-160H180v160Zm440 0h160v-160H620v160Z\"/>\n",
              "  </svg>\n",
              "    </button>\n",
              "\n",
              "  <style>\n",
              "    .colab-df-container {\n",
              "      display:flex;\n",
              "      gap: 12px;\n",
              "    }\n",
              "\n",
              "    .colab-df-convert {\n",
              "      background-color: #E8F0FE;\n",
              "      border: none;\n",
              "      border-radius: 50%;\n",
              "      cursor: pointer;\n",
              "      display: none;\n",
              "      fill: #1967D2;\n",
              "      height: 32px;\n",
              "      padding: 0 0 0 0;\n",
              "      width: 32px;\n",
              "    }\n",
              "\n",
              "    .colab-df-convert:hover {\n",
              "      background-color: #E2EBFA;\n",
              "      box-shadow: 0px 1px 2px rgba(60, 64, 67, 0.3), 0px 1px 3px 1px rgba(60, 64, 67, 0.15);\n",
              "      fill: #174EA6;\n",
              "    }\n",
              "\n",
              "    .colab-df-buttons div {\n",
              "      margin-bottom: 4px;\n",
              "    }\n",
              "\n",
              "    [theme=dark] .colab-df-convert {\n",
              "      background-color: #3B4455;\n",
              "      fill: #D2E3FC;\n",
              "    }\n",
              "\n",
              "    [theme=dark] .colab-df-convert:hover {\n",
              "      background-color: #434B5C;\n",
              "      box-shadow: 0px 1px 3px 1px rgba(0, 0, 0, 0.15);\n",
              "      filter: drop-shadow(0px 1px 2px rgba(0, 0, 0, 0.3));\n",
              "      fill: #FFFFFF;\n",
              "    }\n",
              "  </style>\n",
              "\n",
              "    <script>\n",
              "      const buttonEl =\n",
              "        document.querySelector('#df-a1886af6-cb00-49b4-b035-5ba471daf440 button.colab-df-convert');\n",
              "      buttonEl.style.display =\n",
              "        google.colab.kernel.accessAllowed ? 'block' : 'none';\n",
              "\n",
              "      async function convertToInteractive(key) {\n",
              "        const element = document.querySelector('#df-a1886af6-cb00-49b4-b035-5ba471daf440');\n",
              "        const dataTable =\n",
              "          await google.colab.kernel.invokeFunction('convertToInteractive',\n",
              "                                                    [key], {});\n",
              "        if (!dataTable) return;\n",
              "\n",
              "        const docLinkHtml = 'Like what you see? Visit the ' +\n",
              "          '<a target=\"_blank\" href=https://colab.research.google.com/notebooks/data_table.ipynb>data table notebook</a>'\n",
              "          + ' to learn more about interactive tables.';\n",
              "        element.innerHTML = '';\n",
              "        dataTable['output_type'] = 'display_data';\n",
              "        await google.colab.output.renderOutput(dataTable, element);\n",
              "        const docLink = document.createElement('div');\n",
              "        docLink.innerHTML = docLinkHtml;\n",
              "        element.appendChild(docLink);\n",
              "      }\n",
              "    </script>\n",
              "  </div>\n",
              "\n",
              "\n",
              "<div id=\"df-69968766-57ae-4c07-945b-37f43609f22b\">\n",
              "  <button class=\"colab-df-quickchart\" onclick=\"quickchart('df-69968766-57ae-4c07-945b-37f43609f22b')\"\n",
              "            title=\"Suggest charts.\"\n",
              "            style=\"display:none;\">\n",
              "\n",
              "<svg xmlns=\"http://www.w3.org/2000/svg\" height=\"24px\"viewBox=\"0 0 24 24\"\n",
              "     width=\"24px\">\n",
              "    <g>\n",
              "        <path d=\"M19 3H5c-1.1 0-2 .9-2 2v14c0 1.1.9 2 2 2h14c1.1 0 2-.9 2-2V5c0-1.1-.9-2-2-2zM9 17H7v-7h2v7zm4 0h-2V7h2v10zm4 0h-2v-4h2v4z\"/>\n",
              "    </g>\n",
              "</svg>\n",
              "  </button>\n",
              "\n",
              "<style>\n",
              "  .colab-df-quickchart {\n",
              "    background-color: #E8F0FE;\n",
              "    border: none;\n",
              "    border-radius: 50%;\n",
              "    cursor: pointer;\n",
              "    display: none;\n",
              "    fill: #1967D2;\n",
              "    height: 32px;\n",
              "    padding: 0 0 0 0;\n",
              "    width: 32px;\n",
              "  }\n",
              "\n",
              "  .colab-df-quickchart:hover {\n",
              "    background-color: #E2EBFA;\n",
              "    box-shadow: 0px 1px 2px rgba(60, 64, 67, 0.3), 0px 1px 3px 1px rgba(60, 64, 67, 0.15);\n",
              "    fill: #174EA6;\n",
              "  }\n",
              "\n",
              "  [theme=dark] .colab-df-quickchart {\n",
              "    background-color: #3B4455;\n",
              "    fill: #D2E3FC;\n",
              "  }\n",
              "\n",
              "  [theme=dark] .colab-df-quickchart:hover {\n",
              "    background-color: #434B5C;\n",
              "    box-shadow: 0px 1px 3px 1px rgba(0, 0, 0, 0.15);\n",
              "    filter: drop-shadow(0px 1px 2px rgba(0, 0, 0, 0.3));\n",
              "    fill: #FFFFFF;\n",
              "  }\n",
              "</style>\n",
              "\n",
              "  <script>\n",
              "    async function quickchart(key) {\n",
              "      const charts = await google.colab.kernel.invokeFunction(\n",
              "          'suggestCharts', [key], {});\n",
              "    }\n",
              "    (() => {\n",
              "      let quickchartButtonEl =\n",
              "        document.querySelector('#df-69968766-57ae-4c07-945b-37f43609f22b button');\n",
              "      quickchartButtonEl.style.display =\n",
              "        google.colab.kernel.accessAllowed ? 'block' : 'none';\n",
              "    })();\n",
              "  </script>\n",
              "</div>\n",
              "    </div>\n",
              "  </div>\n"
            ]
          },
          "metadata": {},
          "execution_count": 34
        }
      ]
    },
    {
      "cell_type": "code",
      "source": [
        "# when compared to previous run we are having 0.6 % hike in ROC Curve."
      ],
      "metadata": {
        "id": "Dh-bos-KegEX"
      },
      "execution_count": 35,
      "outputs": []
    }
  ]
}